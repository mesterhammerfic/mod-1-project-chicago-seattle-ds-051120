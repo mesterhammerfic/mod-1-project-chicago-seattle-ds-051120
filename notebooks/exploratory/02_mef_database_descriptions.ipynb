{
 "cells": [
  {
   "cell_type": "markdown",
   "metadata": {},
   "source": [
    "Initial setup"
   ]
  },
  {
   "cell_type": "code",
   "execution_count": 3,
   "metadata": {},
   "outputs": [
    {
     "name": "stdout",
     "output_type": "stream",
     "text": [
      "The autoreload extension is already loaded. To reload it, use:\n",
      "  %reload_ext autoreload\n"
     ]
    }
   ],
   "source": [
    "%load_ext autoreload\n",
    "%autoreload 2\n",
    "\n",
    "#modules for setting the path\n",
    "import os\n",
    "import sys\n",
    "module_path = os.path.abspath(os.path.join(os.pardir, os.pardir))\n",
    "if module_path not in sys.path:\n",
    "    sys.path.append(module_path)\n",
    "\n",
    "#modules for opening the data\n",
    "import psycopg2\n",
    "import pandas as pd\n",
    "from src.data import local\n",
    "\n",
    "#Retrieving postgres info\n",
    "PORT = local.port\n",
    "USER = local.user\n",
    "HOST = local.host\n",
    "PASSWORD = local.password\n",
    "\n",
    "DBNAME = \"opportunity_youth\""
   ]
  },
  {
   "cell_type": "code",
   "execution_count": 5,
   "metadata": {},
   "outputs": [],
   "source": [
    "conn = psycopg2.connect(dbname=DBNAME, user=USER, password=PASSWORD, port=PORT, host=HOST)"
   ]
  },
  {
   "cell_type": "markdown",
   "metadata": {},
   "source": [
    "First I want to find out what is in the puma_names_2010 table."
   ]
  },
  {
   "cell_type": "code",
   "execution_count": 9,
   "metadata": {},
   "outputs": [
    {
     "data": {
      "text/html": [
       "<div>\n",
       "<style scoped>\n",
       "    .dataframe tbody tr th:only-of-type {\n",
       "        vertical-align: middle;\n",
       "    }\n",
       "\n",
       "    .dataframe tbody tr th {\n",
       "        vertical-align: top;\n",
       "    }\n",
       "\n",
       "    .dataframe thead th {\n",
       "        text-align: right;\n",
       "    }\n",
       "</style>\n",
       "<table border=\"1\" class=\"dataframe\">\n",
       "  <thead>\n",
       "    <tr style=\"text-align: right;\">\n",
       "      <th></th>\n",
       "      <th>state_fips</th>\n",
       "      <th>state_name</th>\n",
       "      <th>cpuma0010</th>\n",
       "      <th>puma</th>\n",
       "      <th>geoid</th>\n",
       "      <th>gisjoin</th>\n",
       "      <th>puma_name</th>\n",
       "    </tr>\n",
       "  </thead>\n",
       "  <tbody>\n",
       "    <tr>\n",
       "      <th>0</th>\n",
       "      <td>1</td>\n",
       "      <td>Alabama                                       ...</td>\n",
       "      <td>1</td>\n",
       "      <td>100</td>\n",
       "      <td>100100</td>\n",
       "      <td>G01000100</td>\n",
       "      <td>Lauderdale, Colbert, Franklin &amp; Marion (Northe...</td>\n",
       "    </tr>\n",
       "    <tr>\n",
       "      <th>1</th>\n",
       "      <td>1</td>\n",
       "      <td>Alabama                                       ...</td>\n",
       "      <td>1</td>\n",
       "      <td>800</td>\n",
       "      <td>100800</td>\n",
       "      <td>G01000800</td>\n",
       "      <td>St. Clair &amp; Blount Counties                   ...</td>\n",
       "    </tr>\n",
       "    <tr>\n",
       "      <th>2</th>\n",
       "      <td>1</td>\n",
       "      <td>Alabama                                       ...</td>\n",
       "      <td>1</td>\n",
       "      <td>1400</td>\n",
       "      <td>101400</td>\n",
       "      <td>G01001400</td>\n",
       "      <td>Walker, Marion (South &amp; West), Fayette &amp; Lamar...</td>\n",
       "    </tr>\n",
       "    <tr>\n",
       "      <th>3</th>\n",
       "      <td>1</td>\n",
       "      <td>Alabama                                       ...</td>\n",
       "      <td>1</td>\n",
       "      <td>1500</td>\n",
       "      <td>101500</td>\n",
       "      <td>G01001500</td>\n",
       "      <td>Tuscaloosa (Outer) &amp; Pickens Counties--Northpo...</td>\n",
       "    </tr>\n",
       "    <tr>\n",
       "      <th>4</th>\n",
       "      <td>1</td>\n",
       "      <td>Alabama                                       ...</td>\n",
       "      <td>1</td>\n",
       "      <td>1600</td>\n",
       "      <td>101600</td>\n",
       "      <td>G01001600</td>\n",
       "      <td>Tuscaloosa &amp; Northport (Southeast) Cities     ...</td>\n",
       "    </tr>\n",
       "  </tbody>\n",
       "</table>\n",
       "</div>"
      ],
      "text/plain": [
       "  state_fips                                         state_name cpuma0010  \\\n",
       "0         1   Alabama                                       ...      1      \n",
       "1         1   Alabama                                       ...      1      \n",
       "2         1   Alabama                                       ...      1      \n",
       "3         1   Alabama                                       ...      1      \n",
       "4         1   Alabama                                       ...      1      \n",
       "\n",
       "    puma    geoid    gisjoin  \\\n",
       "0  100    100100   G01000100   \n",
       "1  800    100800   G01000800   \n",
       "2  1400   101400   G01001400   \n",
       "3  1500   101500   G01001500   \n",
       "4  1600   101600   G01001600   \n",
       "\n",
       "                                           puma_name  \n",
       "0  Lauderdale, Colbert, Franklin & Marion (Northe...  \n",
       "1  St. Clair & Blount Counties                   ...  \n",
       "2  Walker, Marion (South & West), Fayette & Lamar...  \n",
       "3  Tuscaloosa (Outer) & Pickens Counties--Northpo...  \n",
       "4  Tuscaloosa & Northport (Southeast) Cities     ...  "
      ]
     },
     "execution_count": 9,
     "metadata": {},
     "output_type": "execute_result"
    }
   ],
   "source": [
    "query = \"\"\"\n",
    "SELECT *\n",
    "FROM puma_names_2010\n",
    "\"\"\"\n",
    "\n",
    "puma_names_table = pd.read_sql(query, conn)\n",
    "\n",
    "puma_names_table.head()"
   ]
  },
  {
   "cell_type": "markdown",
   "metadata": {},
   "source": [
    "Let's see if we can find south king county"
   ]
  },
  {
   "cell_type": "code",
   "execution_count": 10,
   "metadata": {},
   "outputs": [
    {
     "data": {
      "text/html": [
       "<div>\n",
       "<style scoped>\n",
       "    .dataframe tbody tr th:only-of-type {\n",
       "        vertical-align: middle;\n",
       "    }\n",
       "\n",
       "    .dataframe tbody tr th {\n",
       "        vertical-align: top;\n",
       "    }\n",
       "\n",
       "    .dataframe thead th {\n",
       "        text-align: right;\n",
       "    }\n",
       "</style>\n",
       "<table border=\"1\" class=\"dataframe\">\n",
       "  <thead>\n",
       "    <tr style=\"text-align: right;\">\n",
       "      <th></th>\n",
       "      <th>state_fips</th>\n",
       "      <th>state_name</th>\n",
       "      <th>cpuma0010</th>\n",
       "      <th>puma</th>\n",
       "      <th>geoid</th>\n",
       "      <th>gisjoin</th>\n",
       "      <th>puma_name</th>\n",
       "    </tr>\n",
       "  </thead>\n",
       "  <tbody>\n",
       "  </tbody>\n",
       "</table>\n",
       "</div>"
      ],
      "text/plain": [
       "Empty DataFrame\n",
       "Columns: [state_fips, state_name, cpuma0010, puma, geoid, gisjoin, puma_name]\n",
       "Index: []"
      ]
     },
     "execution_count": 10,
     "metadata": {},
     "output_type": "execute_result"
    }
   ],
   "source": [
    "query = \"\"\"\n",
    "SELECT *\n",
    "FROM puma_names_2010\n",
    "WHERE puma_name = 'South King County'\n",
    "\"\"\"\n",
    "\n",
    "skc_search = pd.read_sql(query, conn)\n",
    "\n",
    "skc_search.head()"
   ]
  },
  {
   "cell_type": "code",
   "execution_count": 11,
   "metadata": {},
   "outputs": [
    {
     "data": {
      "text/html": [
       "<div>\n",
       "<style scoped>\n",
       "    .dataframe tbody tr th:only-of-type {\n",
       "        vertical-align: middle;\n",
       "    }\n",
       "\n",
       "    .dataframe tbody tr th {\n",
       "        vertical-align: top;\n",
       "    }\n",
       "\n",
       "    .dataframe thead th {\n",
       "        text-align: right;\n",
       "    }\n",
       "</style>\n",
       "<table border=\"1\" class=\"dataframe\">\n",
       "  <thead>\n",
       "    <tr style=\"text-align: right;\">\n",
       "      <th></th>\n",
       "      <th>state_fips</th>\n",
       "      <th>state_name</th>\n",
       "      <th>cpuma0010</th>\n",
       "      <th>puma</th>\n",
       "      <th>geoid</th>\n",
       "      <th>gisjoin</th>\n",
       "      <th>puma_name</th>\n",
       "    </tr>\n",
       "  </thead>\n",
       "  <tbody>\n",
       "    <tr>\n",
       "      <th>0</th>\n",
       "      <td>6</td>\n",
       "      <td>California                                    ...</td>\n",
       "      <td>69</td>\n",
       "      <td>3100</td>\n",
       "      <td>603100</td>\n",
       "      <td>G06003100</td>\n",
       "      <td>Kings County--Hanford City                    ...</td>\n",
       "    </tr>\n",
       "    <tr>\n",
       "      <th>1</th>\n",
       "      <td>25</td>\n",
       "      <td>Massachusetts                                 ...</td>\n",
       "      <td>457</td>\n",
       "      <td>4903</td>\n",
       "      <td>2504903</td>\n",
       "      <td>G25004903</td>\n",
       "      <td>Plymouth County (East)--Plymouth, Marshfield, ...</td>\n",
       "    </tr>\n",
       "    <tr>\n",
       "      <th>2</th>\n",
       "      <td>36</td>\n",
       "      <td>New York                                      ...</td>\n",
       "      <td>702</td>\n",
       "      <td>3701</td>\n",
       "      <td>3603701</td>\n",
       "      <td>G36003701</td>\n",
       "      <td>NYC-Bronx Community District 8--Riverdale, Fie...</td>\n",
       "    </tr>\n",
       "    <tr>\n",
       "      <th>3</th>\n",
       "      <td>42</td>\n",
       "      <td>Pennsylvania                                  ...</td>\n",
       "      <td>862</td>\n",
       "      <td>801</td>\n",
       "      <td>4200801</td>\n",
       "      <td>G42000801</td>\n",
       "      <td>Luzerne County (East)--Kingston Borough       ...</td>\n",
       "    </tr>\n",
       "    <tr>\n",
       "      <th>4</th>\n",
       "      <td>42</td>\n",
       "      <td>Pennsylvania                                  ...</td>\n",
       "      <td>889</td>\n",
       "      <td>3103</td>\n",
       "      <td>4203103</td>\n",
       "      <td>G42003103</td>\n",
       "      <td>Montgomery County (Southwest)--King of Prussia...</td>\n",
       "    </tr>\n",
       "  </tbody>\n",
       "</table>\n",
       "</div>"
      ],
      "text/plain": [
       "  state_fips                                         state_name cpuma0010  \\\n",
       "0         6   California                                    ...      69     \n",
       "1         25  Massachusetts                                 ...      457    \n",
       "2         36  New York                                      ...      702    \n",
       "3         42  Pennsylvania                                  ...      862    \n",
       "4         42  Pennsylvania                                  ...      889    \n",
       "\n",
       "    puma    geoid    gisjoin  \\\n",
       "0  3100   603100   G06003100   \n",
       "1  4903   2504903  G25004903   \n",
       "2  3701   3603701  G36003701   \n",
       "3  801    4200801  G42000801   \n",
       "4  3103   4203103  G42003103   \n",
       "\n",
       "                                           puma_name  \n",
       "0  Kings County--Hanford City                    ...  \n",
       "1  Plymouth County (East)--Plymouth, Marshfield, ...  \n",
       "2  NYC-Bronx Community District 8--Riverdale, Fie...  \n",
       "3  Luzerne County (East)--Kingston Borough       ...  \n",
       "4  Montgomery County (Southwest)--King of Prussia...  "
      ]
     },
     "execution_count": 11,
     "metadata": {},
     "output_type": "execute_result"
    }
   ],
   "source": [
    "query = \"\"\"\n",
    "SELECT *\n",
    "FROM puma_names_2010\n",
    "WHERE puma_name LIKE '%King%'\n",
    "\"\"\"\n",
    "\n",
    "skc_search = pd.read_sql(query, conn)\n",
    "\n",
    "skc_search.head()"
   ]
  },
  {
   "cell_type": "markdown",
   "metadata": {},
   "source": [
    "It doesn't look like South King County is in this table, so let's check wa_geo_xwalk"
   ]
  },
  {
   "cell_type": "code",
   "execution_count": 15,
   "metadata": {},
   "outputs": [
    {
     "data": {
      "text/plain": [
       "Index(['tabblk2010', 'st', 'stusps', 'stname', 'cty', 'ctyname', 'trct',\n",
       "       'trctname', 'bgrp', 'bgrpname', 'cbsa', 'cbsaname', 'zcta', 'zctaname',\n",
       "       'stplc', 'stplcname', 'ctycsub', 'ctycsubname', 'stcd116',\n",
       "       'stcd116name', 'stsldl', 'stsldlname', 'stsldu', 'stslduname',\n",
       "       'stschool', 'stschoolname', 'stsecon', 'dtseconname', 'trib',\n",
       "       'tribname', 'tsub', 'tsubname', 'stanrc', 'stanrcname', 'necta',\n",
       "       'nectname', 'mil', 'milname', 'stwib', 'stwibname', 'blklatdd',\n",
       "       'blklondd', 'createdate'],\n",
       "      dtype='object')"
      ]
     },
     "execution_count": 15,
     "metadata": {},
     "output_type": "execute_result"
    }
   ],
   "source": [
    "query = \"\"\"\n",
    "SELECT *\n",
    "FROM wa_geo_xwalk\n",
    "\"\"\"\n",
    "\n",
    "skc_search = pd.read_sql(query, conn)\n",
    "\n",
    "skc_search.columns"
   ]
  },
  {
   "cell_type": "code",
   "execution_count": 16,
   "metadata": {},
   "outputs": [
    {
     "name": "stdout",
     "output_type": "stream",
     "text": [
      "<class 'pandas.core.frame.DataFrame'>\n",
      "RangeIndex: 195574 entries, 0 to 195573\n",
      "Data columns (total 43 columns):\n",
      " #   Column        Non-Null Count   Dtype  \n",
      "---  ------        --------------   -----  \n",
      " 0   tabblk2010    195574 non-null  object \n",
      " 1   st            195574 non-null  object \n",
      " 2   stusps        195574 non-null  object \n",
      " 3   stname        195574 non-null  object \n",
      " 4   cty           195574 non-null  object \n",
      " 5   ctyname       195574 non-null  object \n",
      " 6   trct          195574 non-null  object \n",
      " 7   trctname      195574 non-null  object \n",
      " 8   bgrp          195574 non-null  object \n",
      " 9   bgrpname      195574 non-null  object \n",
      " 10  cbsa          195574 non-null  object \n",
      " 11  cbsaname      175100 non-null  object \n",
      " 12  zcta          195574 non-null  object \n",
      " 13  zctaname      192838 non-null  object \n",
      " 14  stplc         195574 non-null  object \n",
      " 15  stplcname     113097 non-null  object \n",
      " 16  ctycsub       195574 non-null  object \n",
      " 17  ctycsubname   195574 non-null  object \n",
      " 18  stcd116       195574 non-null  object \n",
      " 19  stcd116name   195574 non-null  object \n",
      " 20  stsldl        195574 non-null  object \n",
      " 21  stsldlname    195574 non-null  object \n",
      " 22  stsldu        195574 non-null  object \n",
      " 23  stslduname    195574 non-null  object \n",
      " 24  stschool      195574 non-null  object \n",
      " 25  stschoolname  195574 non-null  object \n",
      " 26  stsecon       195574 non-null  object \n",
      " 27  dtseconname   0 non-null       object \n",
      " 28  trib          195574 non-null  object \n",
      " 29  tribname      9341 non-null    object \n",
      " 30  tsub          195574 non-null  object \n",
      " 31  tsubname      452 non-null     object \n",
      " 32  stanrc        195574 non-null  object \n",
      " 33  stanrcname    0 non-null       object \n",
      " 34  necta         195574 non-null  object \n",
      " 35  nectname      0 non-null       object \n",
      " 36  mil           1767 non-null    object \n",
      " 37  milname       1767 non-null    object \n",
      " 38  stwib         195574 non-null  object \n",
      " 39  stwibname     195574 non-null  object \n",
      " 40  blklatdd      195574 non-null  float64\n",
      " 41  blklondd      195574 non-null  float64\n",
      " 42  createdate    195574 non-null  object \n",
      "dtypes: float64(2), object(41)\n",
      "memory usage: 64.2+ MB\n"
     ]
    }
   ],
   "source": [
    "skc_search.info()"
   ]
  },
  {
   "cell_type": "code",
   "execution_count": null,
   "metadata": {},
   "outputs": [],
   "source": []
  }
 ],
 "metadata": {
  "kernelspec": {
   "display_name": "Python 3",
   "language": "python",
   "name": "python3"
  },
  "language_info": {
   "codemirror_mode": {
    "name": "ipython",
    "version": 3
   },
   "file_extension": ".py",
   "mimetype": "text/x-python",
   "name": "python",
   "nbconvert_exporter": "python",
   "pygments_lexer": "ipython3",
   "version": "3.8.1"
  }
 },
 "nbformat": 4,
 "nbformat_minor": 4
}
