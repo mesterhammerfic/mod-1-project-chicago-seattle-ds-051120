{
 "cells": [
  {
   "cell_type": "markdown",
   "metadata": {},
   "source": [
    "Initial setup"
   ]
  },
  {
   "cell_type": "code",
   "execution_count": 19,
   "metadata": {},
   "outputs": [
    {
     "name": "stdout",
     "output_type": "stream",
     "text": [
      "The autoreload extension is already loaded. To reload it, use:\n",
      "  %reload_ext autoreload\n"
     ]
    }
   ],
   "source": [
    "%load_ext autoreload\n",
    "%autoreload 2\n",
    "\n",
    "#modules for setting the path\n",
    "import os\n",
    "import sys\n",
    "module_path = os.path.abspath(os.path.join(os.pardir, os.pardir))\n",
    "if module_path not in sys.path:\n",
    "    sys.path.append(module_path)\n",
    "\n",
    "#modules for opening the data\n",
    "import psycopg2\n",
    "import pandas as pd\n",
    "import matplotlib.pyplot as plt\n",
    "\n",
    "\n",
    "#Retrieving postgres info\n",
    "from src.data import local\n",
    "PORT = local.port\n",
    "USER = local.user\n",
    "HOST = local.host\n",
    "PASSWORD = local.password\n",
    "\n",
    "DBNAME = \"opportunity_youth\""
   ]
  },
  {
   "cell_type": "code",
   "execution_count": 20,
   "metadata": {},
   "outputs": [],
   "source": [
    "conn = psycopg2.connect(dbname=DBNAME, user=USER, password=PASSWORD, port=PORT, host=HOST)"
   ]
  },
  {
   "cell_type": "markdown",
   "metadata": {},
   "source": [
    "<h1>First let's take a look at the puma_names_2010 table.</h1>"
   ]
  },
  {
   "cell_type": "code",
   "execution_count": 4,
   "metadata": {},
   "outputs": [
    {
     "data": {
      "text/html": [
       "<div>\n",
       "<style scoped>\n",
       "    .dataframe tbody tr th:only-of-type {\n",
       "        vertical-align: middle;\n",
       "    }\n",
       "\n",
       "    .dataframe tbody tr th {\n",
       "        vertical-align: top;\n",
       "    }\n",
       "\n",
       "    .dataframe thead th {\n",
       "        text-align: right;\n",
       "    }\n",
       "</style>\n",
       "<table border=\"1\" class=\"dataframe\">\n",
       "  <thead>\n",
       "    <tr style=\"text-align: right;\">\n",
       "      <th></th>\n",
       "      <th>state_fips</th>\n",
       "      <th>state_name</th>\n",
       "      <th>cpuma0010</th>\n",
       "      <th>puma</th>\n",
       "      <th>geoid</th>\n",
       "      <th>gisjoin</th>\n",
       "      <th>puma_name</th>\n",
       "    </tr>\n",
       "  </thead>\n",
       "  <tbody>\n",
       "    <tr>\n",
       "      <th>0</th>\n",
       "      <td>1</td>\n",
       "      <td>Alabama                                       ...</td>\n",
       "      <td>1</td>\n",
       "      <td>100</td>\n",
       "      <td>100100</td>\n",
       "      <td>G01000100</td>\n",
       "      <td>Lauderdale, Colbert, Franklin &amp; Marion (Northe...</td>\n",
       "    </tr>\n",
       "    <tr>\n",
       "      <th>1</th>\n",
       "      <td>1</td>\n",
       "      <td>Alabama                                       ...</td>\n",
       "      <td>1</td>\n",
       "      <td>800</td>\n",
       "      <td>100800</td>\n",
       "      <td>G01000800</td>\n",
       "      <td>St. Clair &amp; Blount Counties                   ...</td>\n",
       "    </tr>\n",
       "    <tr>\n",
       "      <th>2</th>\n",
       "      <td>1</td>\n",
       "      <td>Alabama                                       ...</td>\n",
       "      <td>1</td>\n",
       "      <td>1400</td>\n",
       "      <td>101400</td>\n",
       "      <td>G01001400</td>\n",
       "      <td>Walker, Marion (South &amp; West), Fayette &amp; Lamar...</td>\n",
       "    </tr>\n",
       "    <tr>\n",
       "      <th>3</th>\n",
       "      <td>1</td>\n",
       "      <td>Alabama                                       ...</td>\n",
       "      <td>1</td>\n",
       "      <td>1500</td>\n",
       "      <td>101500</td>\n",
       "      <td>G01001500</td>\n",
       "      <td>Tuscaloosa (Outer) &amp; Pickens Counties--Northpo...</td>\n",
       "    </tr>\n",
       "    <tr>\n",
       "      <th>4</th>\n",
       "      <td>1</td>\n",
       "      <td>Alabama                                       ...</td>\n",
       "      <td>1</td>\n",
       "      <td>1600</td>\n",
       "      <td>101600</td>\n",
       "      <td>G01001600</td>\n",
       "      <td>Tuscaloosa &amp; Northport (Southeast) Cities     ...</td>\n",
       "    </tr>\n",
       "  </tbody>\n",
       "</table>\n",
       "</div>"
      ],
      "text/plain": [
       "  state_fips                                         state_name cpuma0010  \\\n",
       "0         1   Alabama                                       ...      1      \n",
       "1         1   Alabama                                       ...      1      \n",
       "2         1   Alabama                                       ...      1      \n",
       "3         1   Alabama                                       ...      1      \n",
       "4         1   Alabama                                       ...      1      \n",
       "\n",
       "    puma    geoid    gisjoin  \\\n",
       "0  100    100100   G01000100   \n",
       "1  800    100800   G01000800   \n",
       "2  1400   101400   G01001400   \n",
       "3  1500   101500   G01001500   \n",
       "4  1600   101600   G01001600   \n",
       "\n",
       "                                           puma_name  \n",
       "0  Lauderdale, Colbert, Franklin & Marion (Northe...  \n",
       "1  St. Clair & Blount Counties                   ...  \n",
       "2  Walker, Marion (South & West), Fayette & Lamar...  \n",
       "3  Tuscaloosa (Outer) & Pickens Counties--Northpo...  \n",
       "4  Tuscaloosa & Northport (Southeast) Cities     ...  "
      ]
     },
     "execution_count": 4,
     "metadata": {},
     "output_type": "execute_result"
    }
   ],
   "source": [
    "query = \"\"\"\n",
    "SELECT *\n",
    "FROM puma_names_2010\n",
    "\"\"\"\n",
    "\n",
    "puma_names_table = pd.read_sql(query, conn)\n",
    "\n",
    "puma_names_table.head()"
   ]
  },
  {
   "cell_type": "markdown",
   "metadata": {},
   "source": [
    "Let's see if we can find south king county"
   ]
  },
  {
   "cell_type": "code",
   "execution_count": 5,
   "metadata": {},
   "outputs": [
    {
     "data": {
      "text/html": [
       "<div>\n",
       "<style scoped>\n",
       "    .dataframe tbody tr th:only-of-type {\n",
       "        vertical-align: middle;\n",
       "    }\n",
       "\n",
       "    .dataframe tbody tr th {\n",
       "        vertical-align: top;\n",
       "    }\n",
       "\n",
       "    .dataframe thead th {\n",
       "        text-align: right;\n",
       "    }\n",
       "</style>\n",
       "<table border=\"1\" class=\"dataframe\">\n",
       "  <thead>\n",
       "    <tr style=\"text-align: right;\">\n",
       "      <th></th>\n",
       "      <th>state_fips</th>\n",
       "      <th>state_name</th>\n",
       "      <th>cpuma0010</th>\n",
       "      <th>puma</th>\n",
       "      <th>geoid</th>\n",
       "      <th>gisjoin</th>\n",
       "      <th>puma_name</th>\n",
       "    </tr>\n",
       "  </thead>\n",
       "  <tbody>\n",
       "    <tr>\n",
       "      <th>0</th>\n",
       "      <td>6</td>\n",
       "      <td>California                                    ...</td>\n",
       "      <td>69</td>\n",
       "      <td>3100</td>\n",
       "      <td>603100</td>\n",
       "      <td>G06003100</td>\n",
       "      <td>Kings County--Hanford City                    ...</td>\n",
       "    </tr>\n",
       "    <tr>\n",
       "      <th>1</th>\n",
       "      <td>25</td>\n",
       "      <td>Massachusetts                                 ...</td>\n",
       "      <td>457</td>\n",
       "      <td>4903</td>\n",
       "      <td>2504903</td>\n",
       "      <td>G25004903</td>\n",
       "      <td>Plymouth County (East)--Plymouth, Marshfield, ...</td>\n",
       "    </tr>\n",
       "    <tr>\n",
       "      <th>2</th>\n",
       "      <td>36</td>\n",
       "      <td>New York                                      ...</td>\n",
       "      <td>702</td>\n",
       "      <td>3701</td>\n",
       "      <td>3603701</td>\n",
       "      <td>G36003701</td>\n",
       "      <td>NYC-Bronx Community District 8--Riverdale, Fie...</td>\n",
       "    </tr>\n",
       "    <tr>\n",
       "      <th>3</th>\n",
       "      <td>42</td>\n",
       "      <td>Pennsylvania                                  ...</td>\n",
       "      <td>862</td>\n",
       "      <td>801</td>\n",
       "      <td>4200801</td>\n",
       "      <td>G42000801</td>\n",
       "      <td>Luzerne County (East)--Kingston Borough       ...</td>\n",
       "    </tr>\n",
       "    <tr>\n",
       "      <th>4</th>\n",
       "      <td>42</td>\n",
       "      <td>Pennsylvania                                  ...</td>\n",
       "      <td>889</td>\n",
       "      <td>3103</td>\n",
       "      <td>4203103</td>\n",
       "      <td>G42003103</td>\n",
       "      <td>Montgomery County (Southwest)--King of Prussia...</td>\n",
       "    </tr>\n",
       "    <tr>\n",
       "      <th>5</th>\n",
       "      <td>47</td>\n",
       "      <td>Tennessee                                     ...</td>\n",
       "      <td>931</td>\n",
       "      <td>1000</td>\n",
       "      <td>4701000</td>\n",
       "      <td>G47001000</td>\n",
       "      <td>Hawkins &amp; Sullivan (Northwest) Counties--Kings...</td>\n",
       "    </tr>\n",
       "    <tr>\n",
       "      <th>6</th>\n",
       "      <td>51</td>\n",
       "      <td>Virginia                                      ...</td>\n",
       "      <td>1017</td>\n",
       "      <td>51215</td>\n",
       "      <td>5151215</td>\n",
       "      <td>G51051215</td>\n",
       "      <td>Hanover, Powhatan, Goochland, New Kent, King W...</td>\n",
       "    </tr>\n",
       "    <tr>\n",
       "      <th>7</th>\n",
       "      <td>53</td>\n",
       "      <td>Washington                                    ...</td>\n",
       "      <td>1044</td>\n",
       "      <td>11606</td>\n",
       "      <td>5311606</td>\n",
       "      <td>G53011606</td>\n",
       "      <td>King County (Northwest)--Shoreline, Kenmore &amp; ...</td>\n",
       "    </tr>\n",
       "    <tr>\n",
       "      <th>8</th>\n",
       "      <td>53</td>\n",
       "      <td>Washington                                    ...</td>\n",
       "      <td>1044</td>\n",
       "      <td>11607</td>\n",
       "      <td>5311607</td>\n",
       "      <td>G53011607</td>\n",
       "      <td>King County (Northwest)--Redmond, Kirkland Cit...</td>\n",
       "    </tr>\n",
       "    <tr>\n",
       "      <th>9</th>\n",
       "      <td>53</td>\n",
       "      <td>Washington                                    ...</td>\n",
       "      <td>1044</td>\n",
       "      <td>11608</td>\n",
       "      <td>5311608</td>\n",
       "      <td>G53011608</td>\n",
       "      <td>King County (Northwest Central)--Greater Belle...</td>\n",
       "    </tr>\n",
       "    <tr>\n",
       "      <th>10</th>\n",
       "      <td>53</td>\n",
       "      <td>Washington                                    ...</td>\n",
       "      <td>1044</td>\n",
       "      <td>11609</td>\n",
       "      <td>5311609</td>\n",
       "      <td>G53011609</td>\n",
       "      <td>King County (Central)--Sammamish, Issaquah, Me...</td>\n",
       "    </tr>\n",
       "    <tr>\n",
       "      <th>11</th>\n",
       "      <td>53</td>\n",
       "      <td>Washington                                    ...</td>\n",
       "      <td>1044</td>\n",
       "      <td>11610</td>\n",
       "      <td>5311610</td>\n",
       "      <td>G53011610</td>\n",
       "      <td>King County (Central)--Renton City, Fairwood, ...</td>\n",
       "    </tr>\n",
       "    <tr>\n",
       "      <th>12</th>\n",
       "      <td>53</td>\n",
       "      <td>Washington                                    ...</td>\n",
       "      <td>1044</td>\n",
       "      <td>11613</td>\n",
       "      <td>5311613</td>\n",
       "      <td>G53011613</td>\n",
       "      <td>King County (Southwest Central)--Kent City    ...</td>\n",
       "    </tr>\n",
       "    <tr>\n",
       "      <th>13</th>\n",
       "      <td>53</td>\n",
       "      <td>Washington                                    ...</td>\n",
       "      <td>1044</td>\n",
       "      <td>11614</td>\n",
       "      <td>5311614</td>\n",
       "      <td>G53011614</td>\n",
       "      <td>King County (Southwest)--Auburn City &amp; Lakelan...</td>\n",
       "    </tr>\n",
       "    <tr>\n",
       "      <th>14</th>\n",
       "      <td>53</td>\n",
       "      <td>Washington                                    ...</td>\n",
       "      <td>1044</td>\n",
       "      <td>11615</td>\n",
       "      <td>5311615</td>\n",
       "      <td>G53011615</td>\n",
       "      <td>King County (Southeast)--Maple Valley, Covingt...</td>\n",
       "    </tr>\n",
       "    <tr>\n",
       "      <th>15</th>\n",
       "      <td>53</td>\n",
       "      <td>Washington                                    ...</td>\n",
       "      <td>1044</td>\n",
       "      <td>11616</td>\n",
       "      <td>5311616</td>\n",
       "      <td>G53011616</td>\n",
       "      <td>King County (Northeast)--Snoqualmie City, Cott...</td>\n",
       "    </tr>\n",
       "    <tr>\n",
       "      <th>16</th>\n",
       "      <td>53</td>\n",
       "      <td>Washington                                    ...</td>\n",
       "      <td>1045</td>\n",
       "      <td>11611</td>\n",
       "      <td>5311611</td>\n",
       "      <td>G53011611</td>\n",
       "      <td>King County (West Central)--Burien, SeaTac, Tu...</td>\n",
       "    </tr>\n",
       "    <tr>\n",
       "      <th>17</th>\n",
       "      <td>53</td>\n",
       "      <td>Washington                                    ...</td>\n",
       "      <td>1046</td>\n",
       "      <td>11612</td>\n",
       "      <td>5311612</td>\n",
       "      <td>G53011612</td>\n",
       "      <td>King County (Far Southwest)--Federal Way, Des ...</td>\n",
       "    </tr>\n",
       "  </tbody>\n",
       "</table>\n",
       "</div>"
      ],
      "text/plain": [
       "   state_fips                                         state_name cpuma0010  \\\n",
       "0          6   California                                    ...      69     \n",
       "1          25  Massachusetts                                 ...      457    \n",
       "2          36  New York                                      ...      702    \n",
       "3          42  Pennsylvania                                  ...      862    \n",
       "4          42  Pennsylvania                                  ...      889    \n",
       "5          47  Tennessee                                     ...      931    \n",
       "6          51  Virginia                                      ...      1017   \n",
       "7          53  Washington                                    ...      1044   \n",
       "8          53  Washington                                    ...      1044   \n",
       "9          53  Washington                                    ...      1044   \n",
       "10         53  Washington                                    ...      1044   \n",
       "11         53  Washington                                    ...      1044   \n",
       "12         53  Washington                                    ...      1044   \n",
       "13         53  Washington                                    ...      1044   \n",
       "14         53  Washington                                    ...      1044   \n",
       "15         53  Washington                                    ...      1044   \n",
       "16         53  Washington                                    ...      1045   \n",
       "17         53  Washington                                    ...      1046   \n",
       "\n",
       "     puma    geoid    gisjoin  \\\n",
       "0   3100   603100   G06003100   \n",
       "1   4903   2504903  G25004903   \n",
       "2   3701   3603701  G36003701   \n",
       "3   801    4200801  G42000801   \n",
       "4   3103   4203103  G42003103   \n",
       "5   1000   4701000  G47001000   \n",
       "6   51215  5151215  G51051215   \n",
       "7   11606  5311606  G53011606   \n",
       "8   11607  5311607  G53011607   \n",
       "9   11608  5311608  G53011608   \n",
       "10  11609  5311609  G53011609   \n",
       "11  11610  5311610  G53011610   \n",
       "12  11613  5311613  G53011613   \n",
       "13  11614  5311614  G53011614   \n",
       "14  11615  5311615  G53011615   \n",
       "15  11616  5311616  G53011616   \n",
       "16  11611  5311611  G53011611   \n",
       "17  11612  5311612  G53011612   \n",
       "\n",
       "                                            puma_name  \n",
       "0   Kings County--Hanford City                    ...  \n",
       "1   Plymouth County (East)--Plymouth, Marshfield, ...  \n",
       "2   NYC-Bronx Community District 8--Riverdale, Fie...  \n",
       "3   Luzerne County (East)--Kingston Borough       ...  \n",
       "4   Montgomery County (Southwest)--King of Prussia...  \n",
       "5   Hawkins & Sullivan (Northwest) Counties--Kings...  \n",
       "6   Hanover, Powhatan, Goochland, New Kent, King W...  \n",
       "7   King County (Northwest)--Shoreline, Kenmore & ...  \n",
       "8   King County (Northwest)--Redmond, Kirkland Cit...  \n",
       "9   King County (Northwest Central)--Greater Belle...  \n",
       "10  King County (Central)--Sammamish, Issaquah, Me...  \n",
       "11  King County (Central)--Renton City, Fairwood, ...  \n",
       "12  King County (Southwest Central)--Kent City    ...  \n",
       "13  King County (Southwest)--Auburn City & Lakelan...  \n",
       "14  King County (Southeast)--Maple Valley, Covingt...  \n",
       "15  King County (Northeast)--Snoqualmie City, Cott...  \n",
       "16  King County (West Central)--Burien, SeaTac, Tu...  \n",
       "17  King County (Far Southwest)--Federal Way, Des ...  "
      ]
     },
     "execution_count": 5,
     "metadata": {},
     "output_type": "execute_result"
    }
   ],
   "source": [
    "query = \"\"\"\n",
    "SELECT *\n",
    "FROM puma_names_2010\n",
    "WHERE puma_name LIKE '%King%'\n",
    "\"\"\"\n",
    "\n",
    "skc_search = pd.read_sql(query, conn)\n",
    "\n",
    "skc_search"
   ]
  },
  {
   "cell_type": "markdown",
   "metadata": {},
   "source": [
    "It looks like King County is listed here but there are multiple entries for the southern part of king county. We may need to compare the puma_name descriptions with a clear definition of 'South King County'. We may need to compare with the Roadmap data brief."
   ]
  },
  {
   "cell_type": "markdown",
   "metadata": {},
   "source": [
    "<h1>wa_geo_xwalk exploration</h1>"
   ]
  },
  {
   "cell_type": "code",
   "execution_count": 6,
   "metadata": {},
   "outputs": [
    {
     "data": {
      "text/plain": [
       "Index(['tabblk2010', 'st', 'stusps', 'stname', 'cty', 'ctyname', 'trct',\n",
       "       'trctname', 'bgrp', 'bgrpname', 'cbsa', 'cbsaname', 'zcta', 'zctaname',\n",
       "       'stplc', 'stplcname', 'ctycsub', 'ctycsubname', 'stcd116',\n",
       "       'stcd116name', 'stsldl', 'stsldlname', 'stsldu', 'stslduname',\n",
       "       'stschool', 'stschoolname', 'stsecon', 'dtseconname', 'trib',\n",
       "       'tribname', 'tsub', 'tsubname', 'stanrc', 'stanrcname', 'necta',\n",
       "       'nectname', 'mil', 'milname', 'stwib', 'stwibname', 'blklatdd',\n",
       "       'blklondd', 'createdate'],\n",
       "      dtype='object')"
      ]
     },
     "execution_count": 6,
     "metadata": {},
     "output_type": "execute_result"
    }
   ],
   "source": [
    "query = \"\"\"\n",
    "SELECT *\n",
    "FROM wa_geo_xwalk\n",
    "\"\"\"\n",
    "\n",
    "skc_search = pd.read_sql(query, conn)\n",
    "\n",
    "skc_search.columns"
   ]
  },
  {
   "cell_type": "code",
   "execution_count": 7,
   "metadata": {},
   "outputs": [
    {
     "name": "stdout",
     "output_type": "stream",
     "text": [
      "<class 'pandas.core.frame.DataFrame'>\n",
      "RangeIndex: 195574 entries, 0 to 195573\n",
      "Data columns (total 43 columns):\n",
      " #   Column        Non-Null Count   Dtype  \n",
      "---  ------        --------------   -----  \n",
      " 0   tabblk2010    195574 non-null  object \n",
      " 1   st            195574 non-null  object \n",
      " 2   stusps        195574 non-null  object \n",
      " 3   stname        195574 non-null  object \n",
      " 4   cty           195574 non-null  object \n",
      " 5   ctyname       195574 non-null  object \n",
      " 6   trct          195574 non-null  object \n",
      " 7   trctname      195574 non-null  object \n",
      " 8   bgrp          195574 non-null  object \n",
      " 9   bgrpname      195574 non-null  object \n",
      " 10  cbsa          195574 non-null  object \n",
      " 11  cbsaname      175100 non-null  object \n",
      " 12  zcta          195574 non-null  object \n",
      " 13  zctaname      192838 non-null  object \n",
      " 14  stplc         195574 non-null  object \n",
      " 15  stplcname     113097 non-null  object \n",
      " 16  ctycsub       195574 non-null  object \n",
      " 17  ctycsubname   195574 non-null  object \n",
      " 18  stcd116       195574 non-null  object \n",
      " 19  stcd116name   195574 non-null  object \n",
      " 20  stsldl        195574 non-null  object \n",
      " 21  stsldlname    195574 non-null  object \n",
      " 22  stsldu        195574 non-null  object \n",
      " 23  stslduname    195574 non-null  object \n",
      " 24  stschool      195574 non-null  object \n",
      " 25  stschoolname  195574 non-null  object \n",
      " 26  stsecon       195574 non-null  object \n",
      " 27  dtseconname   0 non-null       object \n",
      " 28  trib          195574 non-null  object \n",
      " 29  tribname      9341 non-null    object \n",
      " 30  tsub          195574 non-null  object \n",
      " 31  tsubname      452 non-null     object \n",
      " 32  stanrc        195574 non-null  object \n",
      " 33  stanrcname    0 non-null       object \n",
      " 34  necta         195574 non-null  object \n",
      " 35  nectname      0 non-null       object \n",
      " 36  mil           1767 non-null    object \n",
      " 37  milname       1767 non-null    object \n",
      " 38  stwib         195574 non-null  object \n",
      " 39  stwibname     195574 non-null  object \n",
      " 40  blklatdd      195574 non-null  float64\n",
      " 41  blklondd      195574 non-null  float64\n",
      " 42  createdate    195574 non-null  object \n",
      "dtypes: float64(2), object(41)\n",
      "memory usage: 64.2+ MB\n"
     ]
    }
   ],
   "source": [
    "skc_search.info()"
   ]
  },
  {
   "cell_type": "markdown",
   "metadata": {},
   "source": [
    "Looks like wa_geo_xwalk contaings tracts under the 'trct' and 'trctname' columns as well as longitude and latitude info under the 'blklatdd' and 'blklondd' columns."
   ]
  },
  {
   "cell_type": "code",
   "execution_count": 8,
   "metadata": {},
   "outputs": [],
   "source": [
    "query = \"\"\"\n",
    "SELECT st, stname, cty, ctyname\n",
    "FROM wa_geo_xwalk\n",
    "\"\"\"\n",
    "\n",
    "skc_search = pd.read_sql(query, conn)"
   ]
  },
  {
   "cell_type": "code",
   "execution_count": 9,
   "metadata": {},
   "outputs": [
    {
     "name": "stdout",
     "output_type": "stream",
     "text": [
      "['Washington                                                                                          '\n",
      " 'Oregon                                                                                              '\n",
      " 'Idaho                                                                                               ']\n"
     ]
    }
   ],
   "source": [
    "print(skc_search.stname.unique())"
   ]
  },
  {
   "cell_type": "markdown",
   "metadata": {},
   "source": [
    "It only covers the above 3 states."
   ]
  },
  {
   "cell_type": "markdown",
   "metadata": {},
   "source": [
    "<h1>pums_2017</h1>"
   ]
  },
  {
   "cell_type": "code",
   "execution_count": 54,
   "metadata": {},
   "outputs": [],
   "source": [
    "query = \"\"\"\n",
    "            SELECT p.puma, rtrim(puma_name), agep,\n",
    "            CASE WHEN p.sch = '1' THEN 'Has not attended in last 3 months'\n",
    "                 WHEN p.sch IN ('2','3') THEN 'public or private school or college and homeschool'\n",
    "                 END as School,\n",
    "            CASE WHEN p.schl in ('16','17') THEN 'HS diploma or GED'\n",
    "                 WHEN p.schl in ('18','19','20','21','22','23','24') THEN 'post HS education'\n",
    "                 ELSE 'No HS or GED'\n",
    "                 END as Education_attainment,\n",
    "            CASE WHEN p.dis = '1' THEN 'reported disability'\n",
    "                 ELSE 'no reported disability'\n",
    "                 END as disability_status,\n",
    "            CASE WHEN p.esp in ('1','2','3','5','6','7','8') THEN 'One or both parents in labor force'\n",
    "                 WHEN p.esp = '4' THEN 'Neither parent in labor force'\n",
    "                 END as Parent_employment,\n",
    "            CASE WHEN p.esr in ('1','2') THEN 'employed'\n",
    "                 WHEN p.esr in ('3','6') THEN 'Unemployed/not in labor force'\n",
    "                 WHEN p.esr IN ('4','5') THEN 'Armed Forces'\n",
    "                 END as Employment_status,\n",
    "            CASE WHEN p.sex = '1' THEN 'male'\n",
    "                 ELSE 'female'\n",
    "                 END as gender,\n",
    "            indp,\n",
    "            povpip,\n",
    "            SUM(pwgtp) as Weighted_Total\n",
    "            FROM pums_2017 p\n",
    "            JOIN puma_names_2010 n on p.puma = n.puma\n",
    "            WHERE state_name = 'Washington'\n",
    "            AND p.puma IN ('11610', '11611', '11612', '11613', '11614', '11615')\n",
    "            AND agep BETWEEN 16 AND 24\n",
    "            GROUP BY school, education_attainment, disability_status, employment_status, Parent_employment, indp, povpip,\n",
    "                     agep, sex, rtrim(puma_name), p.puma\n",
    "            ORDER BY school, agep DESC\"\"\"\n",
    "\n",
    "skc_youth_2017 = pd.read_sql(query, conn)"
   ]
  },
  {
   "cell_type": "code",
   "execution_count": 58,
   "metadata": {},
   "outputs": [],
   "source": [
    "query = \"\"\"\n",
    "            SELECT p.puma, rtrim(puma_name), agep,\n",
    "            CASE WHEN p.sch = '1' THEN 'Has not attended in last 3 months'\n",
    "                 WHEN p.sch IN ('2','3') THEN 'public or private school or college and homeschool'\n",
    "                 END as School,\n",
    "            CASE WHEN p.schl in ('16','17') THEN 'HS diploma or GED'\n",
    "                 WHEN p.schl in ('18','19','20','21','22','23','24') THEN 'post HS education'\n",
    "                 ELSE 'No HS or GED'\n",
    "                 END as Education_attainment,\n",
    "            CASE WHEN p.dis = '1' THEN 'reported disability'\n",
    "                 ELSE 'no reported disability'\n",
    "                 END as disability_status,\n",
    "            CASE WHEN p.esp in ('1','2','3','5','6','7','8') THEN 'One or both parents in labor force'\n",
    "                 WHEN p.esp = '4' THEN 'Neither parent in labor force'\n",
    "                 END as Parent_employment,\n",
    "            CASE WHEN p.esr in ('1','2') THEN 'employed'\n",
    "                 WHEN p.esr in ('3','6') THEN 'Unemployed/not in labor force'\n",
    "                 WHEN p.esr IN ('4','5') THEN 'Armed Forces'\n",
    "                 END as Employment_status,\n",
    "            CASE WHEN p.sex = '1' THEN 'male'\n",
    "                 ELSE 'female'\n",
    "                 END as gender,\n",
    "            indp,\n",
    "            povpip,\n",
    "            SUM(pwgtp) as Weighted_Total\n",
    "            FROM pums_2018 p\n",
    "            JOIN puma_names_2010 n on p.puma = n.puma\n",
    "            WHERE state_name = 'Washington'\n",
    "            AND p.puma IN ('11610', '11611', '11612', '11613', '11614', '11615')\n",
    "            AND agep BETWEEN 16 AND 24\n",
    "            GROUP BY school, education_attainment, disability_status, employment_status, Parent_employment, indp, povpip,\n",
    "                     agep, sex, rtrim(puma_name), p.puma\n",
    "            ORDER BY school, agep DESC\"\"\"\n",
    "\n",
    "skc_youth_2018 = pd.read_sql(query, conn)"
   ]
  },
  {
   "cell_type": "code",
   "execution_count": 66,
   "metadata": {},
   "outputs": [
    {
     "data": {
      "text/plain": [
       "array(['employed', 'Unemployed/not in labor force', 'Armed Forces'],\n",
       "      dtype=object)"
      ]
     },
     "execution_count": 66,
     "metadata": {},
     "output_type": "execute_result"
    }
   ],
   "source": [
    "skc_youth_2017.employment_status.unique()"
   ]
  },
  {
   "cell_type": "code",
   "execution_count": 69,
   "metadata": {},
   "outputs": [
    {
     "data": {
      "text/html": [
       "<div>\n",
       "<style scoped>\n",
       "    .dataframe tbody tr th:only-of-type {\n",
       "        vertical-align: middle;\n",
       "    }\n",
       "\n",
       "    .dataframe tbody tr th {\n",
       "        vertical-align: top;\n",
       "    }\n",
       "\n",
       "    .dataframe thead th {\n",
       "        text-align: right;\n",
       "    }\n",
       "</style>\n",
       "<table border=\"1\" class=\"dataframe\">\n",
       "  <thead>\n",
       "    <tr style=\"text-align: right;\">\n",
       "      <th></th>\n",
       "      <th>puma</th>\n",
       "      <th>rtrim</th>\n",
       "      <th>agep</th>\n",
       "      <th>school</th>\n",
       "      <th>education_attainment</th>\n",
       "      <th>disability_status</th>\n",
       "      <th>parent_employment</th>\n",
       "      <th>employment_status</th>\n",
       "      <th>gender</th>\n",
       "      <th>indp</th>\n",
       "      <th>povpip</th>\n",
       "      <th>weighted_total</th>\n",
       "    </tr>\n",
       "  </thead>\n",
       "  <tbody>\n",
       "    <tr>\n",
       "      <th>68</th>\n",
       "      <td>11615</td>\n",
       "      <td>King County (Southeast)--Maple Valley, Covingt...</td>\n",
       "      <td>24.0</td>\n",
       "      <td>Has not attended in last 3 months</td>\n",
       "      <td>HS diploma or GED</td>\n",
       "      <td>no reported disability</td>\n",
       "      <td>None</td>\n",
       "      <td>Unemployed/not in labor force</td>\n",
       "      <td>male</td>\n",
       "      <td>0770</td>\n",
       "      <td>197.0</td>\n",
       "      <td>37.0</td>\n",
       "    </tr>\n",
       "    <tr>\n",
       "      <th>69</th>\n",
       "      <td>11611</td>\n",
       "      <td>King County (West Central)--Burien, SeaTac, Tu...</td>\n",
       "      <td>24.0</td>\n",
       "      <td>Has not attended in last 3 months</td>\n",
       "      <td>HS diploma or GED</td>\n",
       "      <td>no reported disability</td>\n",
       "      <td>None</td>\n",
       "      <td>Unemployed/not in labor force</td>\n",
       "      <td>male</td>\n",
       "      <td>1270</td>\n",
       "      <td>204.0</td>\n",
       "      <td>38.0</td>\n",
       "    </tr>\n",
       "    <tr>\n",
       "      <th>70</th>\n",
       "      <td>11611</td>\n",
       "      <td>King County (West Central)--Burien, SeaTac, Tu...</td>\n",
       "      <td>24.0</td>\n",
       "      <td>Has not attended in last 3 months</td>\n",
       "      <td>HS diploma or GED</td>\n",
       "      <td>no reported disability</td>\n",
       "      <td>None</td>\n",
       "      <td>Unemployed/not in labor force</td>\n",
       "      <td>male</td>\n",
       "      <td>4470</td>\n",
       "      <td>113.0</td>\n",
       "      <td>49.0</td>\n",
       "    </tr>\n",
       "    <tr>\n",
       "      <th>71</th>\n",
       "      <td>11613</td>\n",
       "      <td>King County (Southwest Central)--Kent City</td>\n",
       "      <td>24.0</td>\n",
       "      <td>Has not attended in last 3 months</td>\n",
       "      <td>HS diploma or GED</td>\n",
       "      <td>no reported disability</td>\n",
       "      <td>None</td>\n",
       "      <td>Unemployed/not in labor force</td>\n",
       "      <td>female</td>\n",
       "      <td>5391</td>\n",
       "      <td>0.0</td>\n",
       "      <td>45.0</td>\n",
       "    </tr>\n",
       "    <tr>\n",
       "      <th>72</th>\n",
       "      <td>11610</td>\n",
       "      <td>King County (Central)--Renton City, Fairwood, ...</td>\n",
       "      <td>24.0</td>\n",
       "      <td>Has not attended in last 3 months</td>\n",
       "      <td>HS diploma or GED</td>\n",
       "      <td>no reported disability</td>\n",
       "      <td>None</td>\n",
       "      <td>Unemployed/not in labor force</td>\n",
       "      <td>female</td>\n",
       "      <td>5391</td>\n",
       "      <td>501.0</td>\n",
       "      <td>68.0</td>\n",
       "    </tr>\n",
       "    <tr>\n",
       "      <th>...</th>\n",
       "      <td>...</td>\n",
       "      <td>...</td>\n",
       "      <td>...</td>\n",
       "      <td>...</td>\n",
       "      <td>...</td>\n",
       "      <td>...</td>\n",
       "      <td>...</td>\n",
       "      <td>...</td>\n",
       "      <td>...</td>\n",
       "      <td>...</td>\n",
       "      <td>...</td>\n",
       "      <td>...</td>\n",
       "    </tr>\n",
       "    <tr>\n",
       "      <th>1437</th>\n",
       "      <td>11614</td>\n",
       "      <td>King County (Southwest)--Auburn City &amp; Lakeland</td>\n",
       "      <td>16.0</td>\n",
       "      <td>Has not attended in last 3 months</td>\n",
       "      <td>No HS or GED</td>\n",
       "      <td>no reported disability</td>\n",
       "      <td>One or both parents in labor force</td>\n",
       "      <td>Unemployed/not in labor force</td>\n",
       "      <td>female</td>\n",
       "      <td>None</td>\n",
       "      <td>501.0</td>\n",
       "      <td>23.0</td>\n",
       "    </tr>\n",
       "    <tr>\n",
       "      <th>1438</th>\n",
       "      <td>11611</td>\n",
       "      <td>King County (West Central)--Burien, SeaTac, Tu...</td>\n",
       "      <td>16.0</td>\n",
       "      <td>Has not attended in last 3 months</td>\n",
       "      <td>No HS or GED</td>\n",
       "      <td>no reported disability</td>\n",
       "      <td>None</td>\n",
       "      <td>Unemployed/not in labor force</td>\n",
       "      <td>male</td>\n",
       "      <td>None</td>\n",
       "      <td>0.0</td>\n",
       "      <td>12.0</td>\n",
       "    </tr>\n",
       "    <tr>\n",
       "      <th>1439</th>\n",
       "      <td>11614</td>\n",
       "      <td>King County (Southwest)--Auburn City &amp; Lakeland</td>\n",
       "      <td>16.0</td>\n",
       "      <td>Has not attended in last 3 months</td>\n",
       "      <td>No HS or GED</td>\n",
       "      <td>no reported disability</td>\n",
       "      <td>None</td>\n",
       "      <td>Unemployed/not in labor force</td>\n",
       "      <td>male</td>\n",
       "      <td>None</td>\n",
       "      <td>39.0</td>\n",
       "      <td>47.0</td>\n",
       "    </tr>\n",
       "    <tr>\n",
       "      <th>1440</th>\n",
       "      <td>11612</td>\n",
       "      <td>King County (Far Southwest)--Federal Way, Des ...</td>\n",
       "      <td>16.0</td>\n",
       "      <td>Has not attended in last 3 months</td>\n",
       "      <td>No HS or GED</td>\n",
       "      <td>no reported disability</td>\n",
       "      <td>None</td>\n",
       "      <td>Unemployed/not in labor force</td>\n",
       "      <td>female</td>\n",
       "      <td>None</td>\n",
       "      <td>169.0</td>\n",
       "      <td>13.0</td>\n",
       "    </tr>\n",
       "    <tr>\n",
       "      <th>1441</th>\n",
       "      <td>11615</td>\n",
       "      <td>King County (Southeast)--Maple Valley, Covingt...</td>\n",
       "      <td>16.0</td>\n",
       "      <td>Has not attended in last 3 months</td>\n",
       "      <td>No HS or GED</td>\n",
       "      <td>reported disability</td>\n",
       "      <td>One or both parents in labor force</td>\n",
       "      <td>Unemployed/not in labor force</td>\n",
       "      <td>female</td>\n",
       "      <td>None</td>\n",
       "      <td>501.0</td>\n",
       "      <td>13.0</td>\n",
       "    </tr>\n",
       "  </tbody>\n",
       "</table>\n",
       "<p>361 rows × 12 columns</p>\n",
       "</div>"
      ],
      "text/plain": [
       "       puma                                              rtrim  agep  \\\n",
       "68    11615  King County (Southeast)--Maple Valley, Covingt...  24.0   \n",
       "69    11611  King County (West Central)--Burien, SeaTac, Tu...  24.0   \n",
       "70    11611  King County (West Central)--Burien, SeaTac, Tu...  24.0   \n",
       "71    11613         King County (Southwest Central)--Kent City  24.0   \n",
       "72    11610  King County (Central)--Renton City, Fairwood, ...  24.0   \n",
       "...     ...                                                ...   ...   \n",
       "1437  11614    King County (Southwest)--Auburn City & Lakeland  16.0   \n",
       "1438  11611  King County (West Central)--Burien, SeaTac, Tu...  16.0   \n",
       "1439  11614    King County (Southwest)--Auburn City & Lakeland  16.0   \n",
       "1440  11612  King County (Far Southwest)--Federal Way, Des ...  16.0   \n",
       "1441  11615  King County (Southeast)--Maple Valley, Covingt...  16.0   \n",
       "\n",
       "                                 school education_attainment  \\\n",
       "68    Has not attended in last 3 months    HS diploma or GED   \n",
       "69    Has not attended in last 3 months    HS diploma or GED   \n",
       "70    Has not attended in last 3 months    HS diploma or GED   \n",
       "71    Has not attended in last 3 months    HS diploma or GED   \n",
       "72    Has not attended in last 3 months    HS diploma or GED   \n",
       "...                                 ...                  ...   \n",
       "1437  Has not attended in last 3 months         No HS or GED   \n",
       "1438  Has not attended in last 3 months         No HS or GED   \n",
       "1439  Has not attended in last 3 months         No HS or GED   \n",
       "1440  Has not attended in last 3 months         No HS or GED   \n",
       "1441  Has not attended in last 3 months         No HS or GED   \n",
       "\n",
       "           disability_status                   parent_employment  \\\n",
       "68    no reported disability                                None   \n",
       "69    no reported disability                                None   \n",
       "70    no reported disability                                None   \n",
       "71    no reported disability                                None   \n",
       "72    no reported disability                                None   \n",
       "...                      ...                                 ...   \n",
       "1437  no reported disability  One or both parents in labor force   \n",
       "1438  no reported disability                                None   \n",
       "1439  no reported disability                                None   \n",
       "1440  no reported disability                                None   \n",
       "1441     reported disability  One or both parents in labor force   \n",
       "\n",
       "                  employment_status  gender  indp  povpip  weighted_total  \n",
       "68    Unemployed/not in labor force    male  0770   197.0            37.0  \n",
       "69    Unemployed/not in labor force    male  1270   204.0            38.0  \n",
       "70    Unemployed/not in labor force    male  4470   113.0            49.0  \n",
       "71    Unemployed/not in labor force  female  5391     0.0            45.0  \n",
       "72    Unemployed/not in labor force  female  5391   501.0            68.0  \n",
       "...                             ...     ...   ...     ...             ...  \n",
       "1437  Unemployed/not in labor force  female  None   501.0            23.0  \n",
       "1438  Unemployed/not in labor force    male  None     0.0            12.0  \n",
       "1439  Unemployed/not in labor force    male  None    39.0            47.0  \n",
       "1440  Unemployed/not in labor force  female  None   169.0            13.0  \n",
       "1441  Unemployed/not in labor force  female  None   501.0            13.0  \n",
       "\n",
       "[361 rows x 12 columns]"
      ]
     },
     "execution_count": 69,
     "metadata": {},
     "output_type": "execute_result"
    }
   ],
   "source": [
    "oy_youth_2018 = skc_youth_2018[(skc_youth_2018['school'] == 'Has not attended in last 3 months') &\n",
    "                               (skc_youth_2018['employment_status'] == 'Unemployed/not in labor force')]\n",
    "oy_youth_2018"
   ]
  },
  {
   "cell_type": "code",
   "execution_count": 65,
   "metadata": {},
   "outputs": [
    {
     "data": {
      "text/plain": [
       "parent_employment\n",
       "Neither parent in labor force           147.0\n",
       "One or both parents in labor force    18925.0\n",
       "Name: weighted_total, dtype: float64"
      ]
     },
     "execution_count": 65,
     "metadata": {},
     "output_type": "execute_result"
    }
   ],
   "source": [
    "skc_youth_2018[skc_youth_2018['parent_employment']].weighted_total.sum()"
   ]
  },
  {
   "cell_type": "code",
   "execution_count": 70,
   "metadata": {},
   "outputs": [
    {
     "data": {
      "text/plain": [
       "<BarContainer object of 2 artists>"
      ]
     },
     "execution_count": 70,
     "metadata": {},
     "output_type": "execute_result"
    },
    {
     "data": {
      "image/png": "[encoded data removed]",
      "text/plain": [
       "<Figure size 360x360 with 1 Axes>"
      ]
     },
     "metadata": {
      "needs_background": "light"
     },
     "output_type": "display_data"
    }
   ],
   "source": [
    "fig, ax = plt.subplots(1,1, figsize=(5,5))\n",
    "ax.bar(x=['2017', '2018',], height=[total_skc_youth_2017,total_skc_youth_2018])"
   ]
  },
  {
   "cell_type": "code",
   "execution_count": null,
   "metadata": {},
   "outputs": [],
   "source": []
  },
  {
   "cell_type": "code",
   "execution_count": 81,
   "metadata": {},
   "outputs": [
    {
     "data": {
      "text/plain": [
       "{'Total Youth (ages 16-14)': 0.06266471449487555,\n",
       " 'Opportunity Youth': 0.15939220885172342}"
      ]
     },
     "execution_count": 81,
     "metadata": {},
     "output_type": "execute_result"
    }
   ],
   "source": [
    "def compare_oy_with_total_youth(variable_and_status, youth_df):\n",
    "    #takes a tuple, variable_and_status, that is compsed of the variable column you want to check \n",
    "    #and the status which you want to compare. Also takes the data frame you want to look at.\n",
    "    variable = variable_and_status[0]\n",
    "    status = variable_and_status[1]\n",
    "    \n",
    "    oy = youth_df[(youth_df['school'] == 'Has not attended in last 3 months') &\n",
    "                  (youth_df['employment_status'] == 'Unemployed/not in labor force')]\n",
    "    \n",
    "    oy_total = oy.weighted_total.sum()\n",
    "    oy_var_total = oy[oy[variable] == status].weighted_total.sum()\n",
    "    oy_prct = oy_var_total/oy_total\n",
    "    \n",
    "    youth_total = youth_df.weighted_total.sum()\n",
    "    youth_var_total = youth_df[youth_df[variable] == status].weighted_total.sum()\n",
    "    youth_prct = youth_var_total/youth_total\n",
    "    \n",
    "    return {'Total Youth (ages 16-14)': youth_prct, 'Opportunity Youth': oy_prct}\n",
    "\n",
    "compare_oy_with_total_youth(('disability_status', 'reported disability'),skc_youth_2018)"
   ]
  },
  {
   "cell_type": "code",
   "execution_count": 110,
   "metadata": {},
   "outputs": [
    {
     "data": {
      "image/png": "[encoded data removed]",
      "text/plain": [
       "<Figure size 576x576 with 1 Axes>"
      ]
     },
     "metadata": {
      "needs_background": "light"
     },
     "output_type": "display_data"
    }
   ],
   "source": [
    "comparison_dict = compare_oy_with_total_youth(('gender', 'male'),skc_youth_2017)\n",
    "\n",
    "col_names = list(comparison_dict.keys())\n",
    "height_values = list(comparison_dict.values())\n",
    "\n",
    "fig, ax = plt.subplots(1,1, figsize=(8,8))\n",
    "\n",
    "ax.set_title('Fewer Males Among Opportunity Youth Compared to Total Youth in South King County')\n",
    "ax.set_ylabel('Percent of Sample')\n",
    "\n",
    "ax.bar(x=col_names, height=height_values);\n"
   ]
  },
  {
   "cell_type": "code",
   "execution_count": 84,
   "metadata": {},
   "outputs": [
    {
     "data": {
      "text/plain": [
       "array([None, 'One or both parents in labor force',\n",
       "       'Neither parent in labor force'], dtype=object)"
      ]
     },
     "execution_count": 84,
     "metadata": {},
     "output_type": "execute_result"
    }
   ],
   "source": [
    "skc_youth_2018.parent_employment.unique()"
   ]
  },
  {
   "cell_type": "code",
   "execution_count": 107,
   "metadata": {},
   "outputs": [
    {
     "data": {
      "text/plain": [
       "<BarContainer object of 2 artists>"
      ]
     },
     "execution_count": 107,
     "metadata": {},
     "output_type": "execute_result"
    },
    {
     "data": {
      "image/png": "[encoded data removed]",
      "text/plain": [
       "<Figure size 576x576 with 1 Axes>"
      ]
     },
     "metadata": {
      "needs_background": "light"
     },
     "output_type": "display_data"
    }
   ],
   "source": [
    "comparison_dict = compare_oy_with_total_youth(('parent_employment', 'Neither parent in labor force'),skc_youth_2017)\n",
    "\n",
    "col_names = list(comparison_dict.keys())\n",
    "height_values = list(comparison_dict.values())\n",
    "\n",
    "fig, ax = plt.subplots(1,1, figsize=(8,8))\n",
    "\n",
    "ax.set_title('Missing Data for Parent Employment Status of Opportunity Youth')\n",
    "ax.set_ylabel('Percent of Sample')\n",
    "\n",
    "ax.bar(x=col_names, height=height_values)\n"
   ]
  },
  {
   "cell_type": "code",
   "execution_count": 108,
   "metadata": {},
   "outputs": [
    {
     "data": {
      "text/plain": [
       "<BarContainer object of 2 artists>"
      ]
     },
     "execution_count": 108,
     "metadata": {},
     "output_type": "execute_result"
    },
    {
     "data": {
      "image/png": "[encoded data removed]",
      "text/plain": [
       "<Figure size 576x576 with 1 Axes>"
      ]
     },
     "metadata": {
      "needs_background": "light"
     },
     "output_type": "display_data"
    }
   ],
   "source": [
    "comparison_dict = compare_oy_with_total_youth(('education_attainment', 'No HS or GED'),skc_youth_2017)\n",
    "\n",
    "col_names = list(comparison_dict.keys())\n",
    "height_values = list(comparison_dict.values())\n",
    "\n",
    "fig, ax = plt.subplots(1,1, figsize=(8,8))\n",
    "\n",
    "ax.set_title('Lower Percentage of Opportunity Youth Lack HS Diploma or GED')\n",
    "ax.set_ylabel('Percent of Sample')\n",
    "\n",
    "ax.bar(x=col_names, height=height_values)\n"
   ]
  },
  {
   "cell_type": "code",
   "execution_count": 109,
   "metadata": {},
   "outputs": [
    {
     "data": {
      "image/png": "[encoded data removed]",
      "text/plain": [
       "<Figure size 576x576 with 1 Axes>"
      ]
     },
     "metadata": {
      "needs_background": "light"
     },
     "output_type": "display_data"
    }
   ],
   "source": [
    "comparison_dict = compare_oy_with_total_youth(('disability_status', 'reported disability'),skc_youth_2017)\n",
    "\n",
    "col_names = list(comparison_dict.keys())\n",
    "height_values = list(comparison_dict.values())\n",
    "\n",
    "fig, ax = plt.subplots(1,1, figsize=(8,8))\n",
    "\n",
    "ax.set_title('Higher Percentage of Disability Among Opportunity Youth')\n",
    "ax.set_ylabel('Percent of Sample')\n",
    "\n",
    "ax.bar(x=col_names, height=height_values);\n",
    "plt.savefig('Disability.png')"
   ]
  },
  {
   "cell_type": "code",
   "execution_count": null,
   "metadata": {},
   "outputs": [],
   "source": []
  }
 ],
 "metadata": {
  "kernelspec": {
   "display_name": "Python 3",
   "language": "python",
   "name": "python3"
  },
  "language_info": {
   "codemirror_mode": {
    "name": "ipython",
    "version": 3
   },
   "file_extension": ".py",
   "mimetype": "text/x-python",
   "name": "python",
   "nbconvert_exporter": "python",
   "pygments_lexer": "ipython3",
   "version": "3.8.1"
  }
 },
 "nbformat": 4,
 "nbformat_minor": 4
}
