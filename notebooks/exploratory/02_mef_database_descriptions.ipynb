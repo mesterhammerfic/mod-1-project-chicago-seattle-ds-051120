{
 "cells": [
  {
   "cell_type": "markdown",
   "metadata": {},
   "source": [
    "Initial setup"
   ]
  },
  {
   "cell_type": "code",
   "execution_count": 2,
   "metadata": {},
   "outputs": [],
   "source": [
    "%load_ext autoreload\n",
    "%autoreload 2\n",
    "\n",
    "#modules for setting the path\n",
    "import os\n",
    "import sys\n",
    "module_path = os.path.abspath(os.path.join(os.pardir, os.pardir))\n",
    "if module_path not in sys.path:\n",
    "    sys.path.append(module_path)\n",
    "\n",
    "#modules for opening the data\n",
    "import psycopg2\n",
    "import pandas as pd\n",
    "import matplotlib.pyplot as plt\n",
    "import seaborn as sns\n",
    "\n",
    "\n",
    "#Retrieving postgres info\n",
    "from src.data import local\n",
    "PORT = local.port\n",
    "USER = local.user\n",
    "HOST = local.host\n",
    "PASSWORD = local.password\n",
    "\n",
    "DBNAME = \"opportunity_youth\""
   ]
  },
  {
   "cell_type": "code",
   "execution_count": 3,
   "metadata": {},
   "outputs": [],
   "source": [
    "conn = psycopg2.connect(dbname=DBNAME, user=USER, password=PASSWORD, port=PORT, host=HOST)"
   ]
  },
  {
   "cell_type": "markdown",
   "metadata": {},
   "source": [
    "<h1>PUMS</h1>"
   ]
  },
  {
   "cell_type": "code",
   "execution_count": 4,
   "metadata": {},
   "outputs": [],
   "source": [
    "query = \"\"\"\n",
    "            SELECT p.puma, rtrim(puma_name), agep,\n",
    "            CASE WHEN p.sch = '1' THEN 'Has not attended in last 3 months'\n",
    "                 WHEN p.sch IN ('2','3') THEN 'public or private school or college and homeschool'\n",
    "                 END as School,\n",
    "            CASE WHEN p.schl in ('16','17') THEN 'HS diploma or GED'\n",
    "                 WHEN p.schl in ('18','19','20','21','22','23','24') THEN 'post HS education'\n",
    "                 ELSE 'No HS or GED'\n",
    "                 END as Education_attainment,\n",
    "            CASE WHEN p.dis = '1' THEN 'reported disability'\n",
    "                 ELSE 'no reported disability'\n",
    "                 END as disability_status,\n",
    "            CASE WHEN p.esp in ('1','2','3','5','6','7','8') THEN 'One or both parents in labor force'\n",
    "                 WHEN p.esp = '4' THEN 'Neither parent in labor force'\n",
    "                 END as Parent_employment,\n",
    "            CASE WHEN p.esr in ('1','2') THEN 'employed'\n",
    "                 WHEN p.esr in ('3','6') THEN 'Unemployed/not in labor force'\n",
    "                 WHEN p.esr IN ('4','5') THEN 'Armed Forces'\n",
    "                 END as Employment_status,\n",
    "            CASE WHEN p.sex = '1' THEN 'male'\n",
    "                 ELSE 'female'\n",
    "                 END as gender,\n",
    "            indp,\n",
    "            povpip,\n",
    "            SUM(pwgtp) as Weighted_Total\n",
    "            FROM pums_2017 p\n",
    "            JOIN puma_names_2010 n on p.puma = n.puma\n",
    "            WHERE state_name = 'Washington'\n",
    "            AND p.puma IN ('11610', '11611', '11612', '11613', '11614', '11615')\n",
    "            AND agep BETWEEN 16 AND 24\n",
    "            GROUP BY school, education_attainment, disability_status, employment_status, Parent_employment, indp, povpip,\n",
    "                     agep, sex, rtrim(puma_name), p.puma\n",
    "            ORDER BY school, agep DESC\"\"\"\n",
    "\n",
    "skc_youth_2017 = pd.read_sql(query, conn)"
   ]
  },
  {
   "cell_type": "code",
   "execution_count": 5,
   "metadata": {},
   "outputs": [],
   "source": [
    "query = \"\"\"\n",
    "            SELECT p.puma, rtrim(puma_name), agep,\n",
    "            CASE WHEN p.sch = '1' THEN 'Has not attended in last 3 months'\n",
    "                 WHEN p.sch IN ('2','3') THEN 'public or private school or college and homeschool'\n",
    "                 END as School,\n",
    "            CASE WHEN p.schl in ('16','17') THEN 'HS diploma or GED'\n",
    "                 WHEN p.schl in ('18','19','20','21','22','23','24') THEN 'post HS education'\n",
    "                 ELSE 'No HS or GED'\n",
    "                 END as Education_attainment,\n",
    "            CASE WHEN p.dis = '1' THEN 'reported disability'\n",
    "                 ELSE 'no reported disability'\n",
    "                 END as disability_status,\n",
    "            CASE WHEN p.esp in ('1','2','3','5','6','7','8') THEN 'One or both parents in labor force'\n",
    "                 WHEN p.esp = '4' THEN 'Neither parent in labor force'\n",
    "                 END as Parent_employment,\n",
    "            CASE WHEN p.esr in ('1','2') THEN 'employed'\n",
    "                 WHEN p.esr in ('3','6') THEN 'Unemployed/not in labor force'\n",
    "                 WHEN p.esr IN ('4','5') THEN 'Armed Forces'\n",
    "                 END as Employment_status,\n",
    "            CASE WHEN p.sex = '1' THEN 'male'\n",
    "                 ELSE 'female'\n",
    "                 END as gender,\n",
    "            indp,\n",
    "            povpip,\n",
    "            SUM(pwgtp) as Weighted_Total\n",
    "            FROM pums_2018 p\n",
    "            JOIN puma_names_2010 n on p.puma = n.puma\n",
    "            WHERE state_name = 'Washington'\n",
    "            AND p.puma IN ('11610', '11611', '11612', '11613', '11614', '11615')\n",
    "            AND agep BETWEEN 16 AND 24\n",
    "            GROUP BY school, education_attainment, disability_status, employment_status, Parent_employment, indp, povpip,\n",
    "                     agep, sex, rtrim(puma_name), p.puma\n",
    "            ORDER BY school, agep DESC\"\"\"\n",
    "\n",
    "skc_youth_2018 = pd.read_sql(query, conn)"
   ]
  },
  {
   "cell_type": "code",
   "execution_count": 6,
   "metadata": {},
   "outputs": [
    {
     "data": {
      "text/plain": [
       "array(['employed', 'Unemployed/not in labor force', 'Armed Forces'],\n",
       "      dtype=object)"
      ]
     },
     "execution_count": 6,
     "metadata": {},
     "output_type": "execute_result"
    }
   ],
   "source": [
    "skc_youth_2017.employment_status.unique()"
   ]
  },
  {
   "cell_type": "code",
   "execution_count": 7,
   "metadata": {},
   "outputs": [
    {
     "data": {
      "text/html": [
       "<div>\n",
       "<style scoped>\n",
       "    .dataframe tbody tr th:only-of-type {\n",
       "        vertical-align: middle;\n",
       "    }\n",
       "\n",
       "    .dataframe tbody tr th {\n",
       "        vertical-align: top;\n",
       "    }\n",
       "\n",
       "    .dataframe thead th {\n",
       "        text-align: right;\n",
       "    }\n",
       "</style>\n",
       "<table border=\"1\" class=\"dataframe\">\n",
       "  <thead>\n",
       "    <tr style=\"text-align: right;\">\n",
       "      <th></th>\n",
       "      <th>puma</th>\n",
       "      <th>rtrim</th>\n",
       "      <th>agep</th>\n",
       "      <th>school</th>\n",
       "      <th>education_attainment</th>\n",
       "      <th>disability_status</th>\n",
       "      <th>parent_employment</th>\n",
       "      <th>employment_status</th>\n",
       "      <th>gender</th>\n",
       "      <th>indp</th>\n",
       "      <th>povpip</th>\n",
       "      <th>weighted_total</th>\n",
       "    </tr>\n",
       "  </thead>\n",
       "  <tbody>\n",
       "    <tr>\n",
       "      <th>68</th>\n",
       "      <td>11615</td>\n",
       "      <td>King County (Southeast)--Maple Valley, Covingt...</td>\n",
       "      <td>24.0</td>\n",
       "      <td>Has not attended in last 3 months</td>\n",
       "      <td>HS diploma or GED</td>\n",
       "      <td>no reported disability</td>\n",
       "      <td>None</td>\n",
       "      <td>Unemployed/not in labor force</td>\n",
       "      <td>male</td>\n",
       "      <td>0770</td>\n",
       "      <td>197.0</td>\n",
       "      <td>37.0</td>\n",
       "    </tr>\n",
       "    <tr>\n",
       "      <th>69</th>\n",
       "      <td>11611</td>\n",
       "      <td>King County (West Central)--Burien, SeaTac, Tu...</td>\n",
       "      <td>24.0</td>\n",
       "      <td>Has not attended in last 3 months</td>\n",
       "      <td>HS diploma or GED</td>\n",
       "      <td>no reported disability</td>\n",
       "      <td>None</td>\n",
       "      <td>Unemployed/not in labor force</td>\n",
       "      <td>male</td>\n",
       "      <td>1270</td>\n",
       "      <td>204.0</td>\n",
       "      <td>38.0</td>\n",
       "    </tr>\n",
       "    <tr>\n",
       "      <th>70</th>\n",
       "      <td>11611</td>\n",
       "      <td>King County (West Central)--Burien, SeaTac, Tu...</td>\n",
       "      <td>24.0</td>\n",
       "      <td>Has not attended in last 3 months</td>\n",
       "      <td>HS diploma or GED</td>\n",
       "      <td>no reported disability</td>\n",
       "      <td>None</td>\n",
       "      <td>Unemployed/not in labor force</td>\n",
       "      <td>male</td>\n",
       "      <td>4470</td>\n",
       "      <td>113.0</td>\n",
       "      <td>49.0</td>\n",
       "    </tr>\n",
       "    <tr>\n",
       "      <th>71</th>\n",
       "      <td>11613</td>\n",
       "      <td>King County (Southwest Central)--Kent City</td>\n",
       "      <td>24.0</td>\n",
       "      <td>Has not attended in last 3 months</td>\n",
       "      <td>HS diploma or GED</td>\n",
       "      <td>no reported disability</td>\n",
       "      <td>None</td>\n",
       "      <td>Unemployed/not in labor force</td>\n",
       "      <td>female</td>\n",
       "      <td>5391</td>\n",
       "      <td>0.0</td>\n",
       "      <td>45.0</td>\n",
       "    </tr>\n",
       "    <tr>\n",
       "      <th>72</th>\n",
       "      <td>11610</td>\n",
       "      <td>King County (Central)--Renton City, Fairwood, ...</td>\n",
       "      <td>24.0</td>\n",
       "      <td>Has not attended in last 3 months</td>\n",
       "      <td>HS diploma or GED</td>\n",
       "      <td>no reported disability</td>\n",
       "      <td>None</td>\n",
       "      <td>Unemployed/not in labor force</td>\n",
       "      <td>female</td>\n",
       "      <td>5391</td>\n",
       "      <td>501.0</td>\n",
       "      <td>68.0</td>\n",
       "    </tr>\n",
       "    <tr>\n",
       "      <th>...</th>\n",
       "      <td>...</td>\n",
       "      <td>...</td>\n",
       "      <td>...</td>\n",
       "      <td>...</td>\n",
       "      <td>...</td>\n",
       "      <td>...</td>\n",
       "      <td>...</td>\n",
       "      <td>...</td>\n",
       "      <td>...</td>\n",
       "      <td>...</td>\n",
       "      <td>...</td>\n",
       "      <td>...</td>\n",
       "    </tr>\n",
       "    <tr>\n",
       "      <th>1437</th>\n",
       "      <td>11614</td>\n",
       "      <td>King County (Southwest)--Auburn City &amp; Lakeland</td>\n",
       "      <td>16.0</td>\n",
       "      <td>Has not attended in last 3 months</td>\n",
       "      <td>No HS or GED</td>\n",
       "      <td>no reported disability</td>\n",
       "      <td>One or both parents in labor force</td>\n",
       "      <td>Unemployed/not in labor force</td>\n",
       "      <td>female</td>\n",
       "      <td>None</td>\n",
       "      <td>501.0</td>\n",
       "      <td>23.0</td>\n",
       "    </tr>\n",
       "    <tr>\n",
       "      <th>1438</th>\n",
       "      <td>11611</td>\n",
       "      <td>King County (West Central)--Burien, SeaTac, Tu...</td>\n",
       "      <td>16.0</td>\n",
       "      <td>Has not attended in last 3 months</td>\n",
       "      <td>No HS or GED</td>\n",
       "      <td>no reported disability</td>\n",
       "      <td>None</td>\n",
       "      <td>Unemployed/not in labor force</td>\n",
       "      <td>male</td>\n",
       "      <td>None</td>\n",
       "      <td>0.0</td>\n",
       "      <td>12.0</td>\n",
       "    </tr>\n",
       "    <tr>\n",
       "      <th>1439</th>\n",
       "      <td>11614</td>\n",
       "      <td>King County (Southwest)--Auburn City &amp; Lakeland</td>\n",
       "      <td>16.0</td>\n",
       "      <td>Has not attended in last 3 months</td>\n",
       "      <td>No HS or GED</td>\n",
       "      <td>no reported disability</td>\n",
       "      <td>None</td>\n",
       "      <td>Unemployed/not in labor force</td>\n",
       "      <td>male</td>\n",
       "      <td>None</td>\n",
       "      <td>39.0</td>\n",
       "      <td>47.0</td>\n",
       "    </tr>\n",
       "    <tr>\n",
       "      <th>1440</th>\n",
       "      <td>11612</td>\n",
       "      <td>King County (Far Southwest)--Federal Way, Des ...</td>\n",
       "      <td>16.0</td>\n",
       "      <td>Has not attended in last 3 months</td>\n",
       "      <td>No HS or GED</td>\n",
       "      <td>no reported disability</td>\n",
       "      <td>None</td>\n",
       "      <td>Unemployed/not in labor force</td>\n",
       "      <td>female</td>\n",
       "      <td>None</td>\n",
       "      <td>169.0</td>\n",
       "      <td>13.0</td>\n",
       "    </tr>\n",
       "    <tr>\n",
       "      <th>1441</th>\n",
       "      <td>11615</td>\n",
       "      <td>King County (Southeast)--Maple Valley, Covingt...</td>\n",
       "      <td>16.0</td>\n",
       "      <td>Has not attended in last 3 months</td>\n",
       "      <td>No HS or GED</td>\n",
       "      <td>reported disability</td>\n",
       "      <td>One or both parents in labor force</td>\n",
       "      <td>Unemployed/not in labor force</td>\n",
       "      <td>female</td>\n",
       "      <td>None</td>\n",
       "      <td>501.0</td>\n",
       "      <td>13.0</td>\n",
       "    </tr>\n",
       "  </tbody>\n",
       "</table>\n",
       "<p>361 rows × 12 columns</p>\n",
       "</div>"
      ],
      "text/plain": [
       "       puma                                              rtrim  agep  \\\n",
       "68    11615  King County (Southeast)--Maple Valley, Covingt...  24.0   \n",
       "69    11611  King County (West Central)--Burien, SeaTac, Tu...  24.0   \n",
       "70    11611  King County (West Central)--Burien, SeaTac, Tu...  24.0   \n",
       "71    11613         King County (Southwest Central)--Kent City  24.0   \n",
       "72    11610  King County (Central)--Renton City, Fairwood, ...  24.0   \n",
       "...     ...                                                ...   ...   \n",
       "1437  11614    King County (Southwest)--Auburn City & Lakeland  16.0   \n",
       "1438  11611  King County (West Central)--Burien, SeaTac, Tu...  16.0   \n",
       "1439  11614    King County (Southwest)--Auburn City & Lakeland  16.0   \n",
       "1440  11612  King County (Far Southwest)--Federal Way, Des ...  16.0   \n",
       "1441  11615  King County (Southeast)--Maple Valley, Covingt...  16.0   \n",
       "\n",
       "                                 school education_attainment  \\\n",
       "68    Has not attended in last 3 months    HS diploma or GED   \n",
       "69    Has not attended in last 3 months    HS diploma or GED   \n",
       "70    Has not attended in last 3 months    HS diploma or GED   \n",
       "71    Has not attended in last 3 months    HS diploma or GED   \n",
       "72    Has not attended in last 3 months    HS diploma or GED   \n",
       "...                                 ...                  ...   \n",
       "1437  Has not attended in last 3 months         No HS or GED   \n",
       "1438  Has not attended in last 3 months         No HS or GED   \n",
       "1439  Has not attended in last 3 months         No HS or GED   \n",
       "1440  Has not attended in last 3 months         No HS or GED   \n",
       "1441  Has not attended in last 3 months         No HS or GED   \n",
       "\n",
       "           disability_status                   parent_employment  \\\n",
       "68    no reported disability                                None   \n",
       "69    no reported disability                                None   \n",
       "70    no reported disability                                None   \n",
       "71    no reported disability                                None   \n",
       "72    no reported disability                                None   \n",
       "...                      ...                                 ...   \n",
       "1437  no reported disability  One or both parents in labor force   \n",
       "1438  no reported disability                                None   \n",
       "1439  no reported disability                                None   \n",
       "1440  no reported disability                                None   \n",
       "1441     reported disability  One or both parents in labor force   \n",
       "\n",
       "                  employment_status  gender  indp  povpip  weighted_total  \n",
       "68    Unemployed/not in labor force    male  0770   197.0            37.0  \n",
       "69    Unemployed/not in labor force    male  1270   204.0            38.0  \n",
       "70    Unemployed/not in labor force    male  4470   113.0            49.0  \n",
       "71    Unemployed/not in labor force  female  5391     0.0            45.0  \n",
       "72    Unemployed/not in labor force  female  5391   501.0            68.0  \n",
       "...                             ...     ...   ...     ...             ...  \n",
       "1437  Unemployed/not in labor force  female  None   501.0            23.0  \n",
       "1438  Unemployed/not in labor force    male  None     0.0            12.0  \n",
       "1439  Unemployed/not in labor force    male  None    39.0            47.0  \n",
       "1440  Unemployed/not in labor force  female  None   169.0            13.0  \n",
       "1441  Unemployed/not in labor force  female  None   501.0            13.0  \n",
       "\n",
       "[361 rows x 12 columns]"
      ]
     },
     "execution_count": 7,
     "metadata": {},
     "output_type": "execute_result"
    }
   ],
   "source": [
    "oy_youth_2018 = skc_youth_2018[(skc_youth_2018['school'] == 'Has not attended in last 3 months') &\n",
    "                               (skc_youth_2018['employment_status'] == 'Unemployed/not in labor force')]\n",
    "oy_youth_2018"
   ]
  },
  {
   "cell_type": "code",
   "execution_count": null,
   "metadata": {},
   "outputs": [],
   "source": []
  },
  {
   "cell_type": "code",
   "execution_count": 8,
   "metadata": {},
   "outputs": [
    {
     "data": {
      "text/plain": [
       "{'Total Youth (ages 16-14)': 0.06266471449487555,\n",
       " 'Opportunity Youth': 0.15939220885172342}"
      ]
     },
     "execution_count": 8,
     "metadata": {},
     "output_type": "execute_result"
    }
   ],
   "source": [
    "def compare_oy_with_total_youth(variable_and_status, youth_df):\n",
    "    #takes a tuple, variable_and_status, that is compsed of the variable column you want to check \n",
    "    #and the status which you want to compare. Also takes the data frame you want to look at.\n",
    "    variable = variable_and_status[0]\n",
    "    status = variable_and_status[1]\n",
    "    \n",
    "    oy = youth_df[(youth_df['school'] == 'Has not attended in last 3 months') &\n",
    "                  (youth_df['employment_status'] == 'Unemployed/not in labor force')]\n",
    "    \n",
    "    oy_total = oy.weighted_total.sum()\n",
    "    oy_var_total = oy[oy[variable] == status].weighted_total.sum()\n",
    "    oy_prct = oy_var_total/oy_total\n",
    "    \n",
    "    youth_total = youth_df.weighted_total.sum()\n",
    "    youth_var_total = youth_df[youth_df[variable] == status].weighted_total.sum()\n",
    "    youth_prct = youth_var_total/youth_total\n",
    "    \n",
    "    return {'Total Youth (ages 16-14)': youth_prct, 'Opportunity Youth': oy_prct}\n",
    "\n",
    "compare_oy_with_total_youth(('disability_status', 'reported disability'),skc_youth_2018)"
   ]
  },
  {
   "cell_type": "code",
   "execution_count": 10,
   "metadata": {},
   "outputs": [
    {
     "data": {
      "image/png": "[encoded data removed]",
      "text/plain": [
       "<Figure size 576x576 with 1 Axes>"
      ]
     },
     "metadata": {
      "needs_background": "light"
     },
     "output_type": "display_data"
    }
   ],
   "source": [
    "comparison_dict = compare_oy_with_total_youth(('gender', 'male'),skc_youth_2017)\n",
    "\n",
    "col_names = list(comparison_dict.keys())\n",
    "height_values = list(comparison_dict.values())\n",
    "\n",
    "fig, ax = plt.subplots(1,1, figsize=(8,8))\n",
    "\n",
    "ax.set_title('Fewer Males Among Opportunity Youth Compared to Total Youth in South King County')\n",
    "ax.set_ylabel('Percent of Sample')\n",
    "ax.bar(x=col_names, height=height_values);\n"
   ]
  },
  {
   "cell_type": "code",
   "execution_count": 11,
   "metadata": {},
   "outputs": [
    {
     "data": {
      "text/plain": [
       "array([None, 'One or both parents in labor force',\n",
       "       'Neither parent in labor force'], dtype=object)"
      ]
     },
     "execution_count": 11,
     "metadata": {},
     "output_type": "execute_result"
    }
   ],
   "source": [
    "skc_youth_2018.parent_employment.unique()"
   ]
  },
  {
   "cell_type": "code",
   "execution_count": 12,
   "metadata": {},
   "outputs": [
    {
     "data": {
      "text/plain": [
       "<BarContainer object of 2 artists>"
      ]
     },
     "execution_count": 12,
     "metadata": {},
     "output_type": "execute_result"
    },
    {
     "data": {
      "image/png": "[encoded data removed]",
      "text/plain": [
       "<Figure size 576x576 with 1 Axes>"
      ]
     },
     "metadata": {
      "needs_background": "light"
     },
     "output_type": "display_data"
    }
   ],
   "source": [
    "comparison_dict = compare_oy_with_total_youth(('parent_employment', 'Neither parent in labor force'),skc_youth_2017)\n",
    "\n",
    "col_names = list(comparison_dict.keys())\n",
    "height_values = list(comparison_dict.values())\n",
    "\n",
    "fig, ax = plt.subplots(1,1, figsize=(8,8))\n",
    "\n",
    "ax.set_title('Missing Data for Parent Employment Status of Opportunity Youth')\n",
    "ax.set_ylabel('Percent of Sample')\n",
    "\n",
    "ax.bar(x=col_names, height=height_values)\n"
   ]
  },
  {
   "cell_type": "code",
   "execution_count": 13,
   "metadata": {},
   "outputs": [
    {
     "data": {
      "text/plain": [
       "<BarContainer object of 2 artists>"
      ]
     },
     "execution_count": 13,
     "metadata": {},
     "output_type": "execute_result"
    },
    {
     "data": {
      "image/png": "[encoded data removed]",
      "text/plain": [
       "<Figure size 576x576 with 1 Axes>"
      ]
     },
     "metadata": {
      "needs_background": "light"
     },
     "output_type": "display_data"
    }
   ],
   "source": [
    "comparison_dict = compare_oy_with_total_youth(('education_attainment', 'No HS or GED'),skc_youth_2017)\n",
    "\n",
    "col_names = list(comparison_dict.keys())\n",
    "height_values = list(comparison_dict.values())\n",
    "\n",
    "fig, ax = plt.subplots(1,1, figsize=(8,8))\n",
    "\n",
    "ax.set_title('Lower Percentage of Opportunity Youth Lack HS Diploma or GED')\n",
    "ax.set_ylabel('Percent of Sample')\n",
    "\n",
    "ax.bar(x=col_names, height=height_values)\n"
   ]
  },
  {
   "cell_type": "code",
   "execution_count": 14,
   "metadata": {},
   "outputs": [
    {
     "data": {
      "image/png": "[encoded data removed]",
      "text/plain": [
       "<Figure size 576x576 with 1 Axes>"
      ]
     },
     "metadata": {
      "needs_background": "light"
     },
     "output_type": "display_data"
    }
   ],
   "source": [
    "comparison_dict = compare_oy_with_total_youth(('disability_status', 'reported disability'),skc_youth_2017)\n",
    "\n",
    "col_names = list(comparison_dict.keys())\n",
    "height_values = list(comparison_dict.values())\n",
    "\n",
    "fig, ax = plt.subplots(1,1, figsize=(8,8))\n",
    "\n",
    "ax.set_title('Higher Percentage of Disability Among Opportunity Youth')\n",
    "ax.set_ylabel('Percent of Sample')\n",
    "\n",
    "ax.bar(x=col_names, height=height_values);\n",
    "plt.savefig('Disability.png')"
   ]
  },
  {
   "cell_type": "code",
   "execution_count": 15,
   "metadata": {},
   "outputs": [
    {
     "data": {
      "text/html": [
       "<div>\n",
       "<style scoped>\n",
       "    .dataframe tbody tr th:only-of-type {\n",
       "        vertical-align: middle;\n",
       "    }\n",
       "\n",
       "    .dataframe tbody tr th {\n",
       "        vertical-align: top;\n",
       "    }\n",
       "\n",
       "    .dataframe thead th {\n",
       "        text-align: right;\n",
       "    }\n",
       "</style>\n",
       "<table border=\"1\" class=\"dataframe\">\n",
       "  <thead>\n",
       "    <tr style=\"text-align: right;\">\n",
       "      <th></th>\n",
       "      <th>puma</th>\n",
       "      <th>rtrim</th>\n",
       "      <th>agep</th>\n",
       "      <th>gender</th>\n",
       "      <th>race_or_ethnicity</th>\n",
       "      <th>school</th>\n",
       "      <th>education_attainment</th>\n",
       "      <th>employment_status</th>\n",
       "      <th>disability_status</th>\n",
       "      <th>disability_type</th>\n",
       "      <th>...</th>\n",
       "      <th>english_language</th>\n",
       "      <th>last_employed</th>\n",
       "      <th>parent_employment</th>\n",
       "      <th>marital_status</th>\n",
       "      <th>child_born_las_year</th>\n",
       "      <th>presence_of_children</th>\n",
       "      <th>moved</th>\n",
       "      <th>has_health_insurance</th>\n",
       "      <th>public_assistance_income_past_year</th>\n",
       "      <th>weight</th>\n",
       "    </tr>\n",
       "  </thead>\n",
       "  <tbody>\n",
       "    <tr>\n",
       "      <th>0</th>\n",
       "      <td>11612</td>\n",
       "      <td>King County (Far Southwest)--Federal Way, Des ...</td>\n",
       "      <td>94.0</td>\n",
       "      <td>male</td>\n",
       "      <td>white</td>\n",
       "      <td>Has not attended in last 3 months</td>\n",
       "      <td>No HS or GED</td>\n",
       "      <td>Unemployed/not in labor force</td>\n",
       "      <td>no reported disability</td>\n",
       "      <td>None reported</td>\n",
       "      <td>...</td>\n",
       "      <td>English Speaker</td>\n",
       "      <td>not employed in the last year</td>\n",
       "      <td>None</td>\n",
       "      <td>divorced, widowed, or separated</td>\n",
       "      <td>None</td>\n",
       "      <td>no own children</td>\n",
       "      <td>lived here last year</td>\n",
       "      <td>yes</td>\n",
       "      <td>0.0</td>\n",
       "      <td>14.0</td>\n",
       "    </tr>\n",
       "    <tr>\n",
       "      <th>1</th>\n",
       "      <td>11609</td>\n",
       "      <td>King County (Central)--Sammamish, Issaquah, Me...</td>\n",
       "      <td>94.0</td>\n",
       "      <td>male</td>\n",
       "      <td>white</td>\n",
       "      <td>Has not attended in last 3 months</td>\n",
       "      <td>post HS education</td>\n",
       "      <td>Unemployed/not in labor force</td>\n",
       "      <td>reported disability</td>\n",
       "      <td>Hearing difficulty</td>\n",
       "      <td>...</td>\n",
       "      <td>English Speaker</td>\n",
       "      <td>not employed in the last year</td>\n",
       "      <td>None</td>\n",
       "      <td>divorced, widowed, or separated</td>\n",
       "      <td>None</td>\n",
       "      <td>no own children</td>\n",
       "      <td>lived here last year</td>\n",
       "      <td>yes</td>\n",
       "      <td>0.0</td>\n",
       "      <td>16.0</td>\n",
       "    </tr>\n",
       "    <tr>\n",
       "      <th>2</th>\n",
       "      <td>11615</td>\n",
       "      <td>King County (Southeast)--Maple Valley, Covingt...</td>\n",
       "      <td>94.0</td>\n",
       "      <td>female</td>\n",
       "      <td>white</td>\n",
       "      <td>Has not attended in last 3 months</td>\n",
       "      <td>post HS education</td>\n",
       "      <td>Unemployed/not in labor force</td>\n",
       "      <td>reported disability</td>\n",
       "      <td>Self-care difficulty</td>\n",
       "      <td>...</td>\n",
       "      <td>English Speaker</td>\n",
       "      <td>not employed in the last year</td>\n",
       "      <td>None</td>\n",
       "      <td>divorced, widowed, or separated</td>\n",
       "      <td>None</td>\n",
       "      <td>no own children</td>\n",
       "      <td>lived here last year</td>\n",
       "      <td>yes</td>\n",
       "      <td>0.0</td>\n",
       "      <td>29.0</td>\n",
       "    </tr>\n",
       "    <tr>\n",
       "      <th>3</th>\n",
       "      <td>11606</td>\n",
       "      <td>King County (Northwest)--Shoreline, Kenmore &amp; ...</td>\n",
       "      <td>94.0</td>\n",
       "      <td>male</td>\n",
       "      <td>asian</td>\n",
       "      <td>Has not attended in last 3 months</td>\n",
       "      <td>post HS education</td>\n",
       "      <td>Unemployed/not in labor force</td>\n",
       "      <td>reported disability</td>\n",
       "      <td>Ambulatory difficulty</td>\n",
       "      <td>...</td>\n",
       "      <td>English Speaker</td>\n",
       "      <td>not employed in the last year</td>\n",
       "      <td>None</td>\n",
       "      <td>divorced, widowed, or separated</td>\n",
       "      <td>None</td>\n",
       "      <td>no own children</td>\n",
       "      <td>lived here last year</td>\n",
       "      <td>yes</td>\n",
       "      <td>0.0</td>\n",
       "      <td>31.0</td>\n",
       "    </tr>\n",
       "    <tr>\n",
       "      <th>4</th>\n",
       "      <td>11613</td>\n",
       "      <td>King County (Southwest Central)--Kent City</td>\n",
       "      <td>94.0</td>\n",
       "      <td>male</td>\n",
       "      <td>white</td>\n",
       "      <td>Has not attended in last 3 months</td>\n",
       "      <td>HS diploma or GED</td>\n",
       "      <td>Unemployed/not in labor force</td>\n",
       "      <td>reported disability</td>\n",
       "      <td>Hearing difficulty</td>\n",
       "      <td>...</td>\n",
       "      <td>English Speaker</td>\n",
       "      <td>not employed in the last year</td>\n",
       "      <td>None</td>\n",
       "      <td>divorced, widowed, or separated</td>\n",
       "      <td>None</td>\n",
       "      <td>no own children</td>\n",
       "      <td>lived here last year</td>\n",
       "      <td>yes</td>\n",
       "      <td>0.0</td>\n",
       "      <td>18.0</td>\n",
       "    </tr>\n",
       "  </tbody>\n",
       "</table>\n",
       "<p>5 rows × 21 columns</p>\n",
       "</div>"
      ],
      "text/plain": [
       "    puma                                              rtrim  agep  gender  \\\n",
       "0  11612  King County (Far Southwest)--Federal Way, Des ...  94.0    male   \n",
       "1  11609  King County (Central)--Sammamish, Issaquah, Me...  94.0    male   \n",
       "2  11615  King County (Southeast)--Maple Valley, Covingt...  94.0  female   \n",
       "3  11606  King County (Northwest)--Shoreline, Kenmore & ...  94.0    male   \n",
       "4  11613         King County (Southwest Central)--Kent City  94.0    male   \n",
       "\n",
       "  race_or_ethnicity                             school education_attainment  \\\n",
       "0             white  Has not attended in last 3 months         No HS or GED   \n",
       "1             white  Has not attended in last 3 months    post HS education   \n",
       "2             white  Has not attended in last 3 months    post HS education   \n",
       "3             asian  Has not attended in last 3 months    post HS education   \n",
       "4             white  Has not attended in last 3 months    HS diploma or GED   \n",
       "\n",
       "               employment_status       disability_status  \\\n",
       "0  Unemployed/not in labor force  no reported disability   \n",
       "1  Unemployed/not in labor force     reported disability   \n",
       "2  Unemployed/not in labor force     reported disability   \n",
       "3  Unemployed/not in labor force     reported disability   \n",
       "4  Unemployed/not in labor force     reported disability   \n",
       "\n",
       "         disability_type  ... english_language                  last_employed  \\\n",
       "0          None reported  ...  English Speaker  not employed in the last year   \n",
       "1     Hearing difficulty  ...  English Speaker  not employed in the last year   \n",
       "2   Self-care difficulty  ...  English Speaker  not employed in the last year   \n",
       "3  Ambulatory difficulty  ...  English Speaker  not employed in the last year   \n",
       "4     Hearing difficulty  ...  English Speaker  not employed in the last year   \n",
       "\n",
       "  parent_employment                   marital_status child_born_las_year  \\\n",
       "0              None  divorced, widowed, or separated                None   \n",
       "1              None  divorced, widowed, or separated                None   \n",
       "2              None  divorced, widowed, or separated                None   \n",
       "3              None  divorced, widowed, or separated                None   \n",
       "4              None  divorced, widowed, or separated                None   \n",
       "\n",
       "  presence_of_children                 moved has_health_insurance  \\\n",
       "0      no own children  lived here last year                  yes   \n",
       "1      no own children  lived here last year                  yes   \n",
       "2      no own children  lived here last year                  yes   \n",
       "3      no own children  lived here last year                  yes   \n",
       "4      no own children  lived here last year                  yes   \n",
       "\n",
       "  public_assistance_income_past_year  weight  \n",
       "0                                0.0    14.0  \n",
       "1                                0.0    16.0  \n",
       "2                                0.0    29.0  \n",
       "3                                0.0    31.0  \n",
       "4                                0.0    18.0  \n",
       "\n",
       "[5 rows x 21 columns]"
      ]
     },
     "execution_count": 15,
     "metadata": {},
     "output_type": "execute_result"
    }
   ],
   "source": [
    "query = \"\"\"\n",
    "            SELECT p.puma, rtrim(puma_name), agep,\n",
    "                        CASE WHEN p.sex = '1' THEN 'male'\n",
    "                 ELSE 'female'\n",
    "                 END as gender,\n",
    "            CASE WHEN p.racasn = '1' THEN 'asian'\n",
    "                 WHEN p.racblk = '1' THEN 'black or African American'\n",
    "                 WHEN p.racwht = '1' THEN 'white'\n",
    "                 WHEN p.hisp <> '1' THEN 'hispanic'\n",
    "                 END as race_or_ethnicity,\n",
    "            CASE WHEN p.sch = '1' THEN 'Has not attended in last 3 months'\n",
    "                 WHEN p.sch IN ('2','3') THEN 'public or private school or college and homeschool'\n",
    "                 END as School,\n",
    "            CASE WHEN p.schl in ('16','17') THEN 'HS diploma or GED'\n",
    "                 WHEN p.schl in ('18','19','20','21','22','23','24') THEN 'post HS education'\n",
    "                 ELSE 'No HS or GED'\n",
    "                 END as Education_attainment,\n",
    "            CASE WHEN p.esr in ('1','2') THEN 'employed'\n",
    "                 WHEN p.esr in ('3','6') THEN 'Unemployed/not in labor force'\n",
    "                 WHEN p.esr IN ('4','5') THEN 'Armed Forces'\n",
    "                 END as Employment_status,\n",
    "            CASE WHEN p.dis = '1' THEN 'reported disability'\n",
    "                 ELSE 'no reported disability'\n",
    "                 END as disability_status,\n",
    "            CASE WHEN p.ddrs = '1' THEN 'Self-care difficulty'\n",
    "                 WHEN p.dear = '1' THEN 'Hearing difficulty'\n",
    "                 WHEN p.deye = '1' THEN 'Vision difficulty'\n",
    "                 WHEN p.dphy = '1' THEN 'Ambulatory difficulty'\n",
    "                 WHEN p.drem = '1' THEN 'Cognitive difficulty'\n",
    "                 ELSE 'None reported'\n",
    "                 END as disability_type,\n",
    "            CASE WHEN p.cit IN ('1','2','3','4') THEN 'US Citizen'\n",
    "                 WHEN p.cit = '5' THEN 'Not US Citizen'\n",
    "                 END as Citizenship,\n",
    "            CASE WHEN p.eng IN ('3','4') THEN 'Poor or No English language'\n",
    "                 ELSE 'English Speaker'\n",
    "                 END as English_language,\n",
    "            CASE WHEN p.wkl = '1' THEN 'employed in the last year'\n",
    "                 WHEN p.wkl in ('2','3') THEN 'not employed in the last year'\n",
    "                 END AS last_employed,\n",
    "            CASE WHEN p.esp in ('1','2','3','5','6','7','8') THEN 'One or both parents in labor force'\n",
    "                 WHEN p.esp = '4' THEN 'Neither parent in labor force'\n",
    "                 END as Parent_employment,\n",
    "            CASE WHEN p.mar = '1' THEN 'married'\n",
    "                 WHEN p.mar = '5' THEN 'never married'\n",
    "                 ELSE 'divorced, widowed, or separated'\n",
    "                 END as marital_status,\n",
    "            CASE WHEN p.fer = '1' THEN 'yes'\n",
    "                 END AS Child_born_las_year,\n",
    "            CASE WHEN p.paoc in ('1','2','3') THEN 'own child(ren)'\n",
    "                 ELSE 'no own children'\n",
    "                 END as Presence_of_children,\n",
    "            CASE WHEN p.mig = '1' THEN 'lived here last year'\n",
    "                 ELSE 'moved here last year'\n",
    "                 END AS Moved,\n",
    "            CASE WHEN p.hicov = '1' THEN 'yes'\n",
    "                 ELSE 'no'\n",
    "                 END as Has_Health_Insurance,\n",
    "            pap as Public_Assistance_Income_past_year,\n",
    "            pwgtp as Weight\n",
    "            FROM pums_2017 p\n",
    "            JOIN puma_names_2010 n on p.puma = n.puma\n",
    "            WHERE state_name = 'Washington'\n",
    "            AND p.puma LIKE '116%'\n",
    "\n",
    "            ORDER BY school, agep DESC\"\"\"\n",
    "            \n",
    "KC_youth_2018 = pd.read_sql(query, conn)\n",
    "KC_youth_2018.head()"
   ]
  },
  {
   "cell_type": "code",
   "execution_count": 16,
   "metadata": {},
   "outputs": [
    {
     "data": {
      "text/plain": [
       "puma\n",
       "11601    153740.0\n",
       "11602    129617.0\n",
       "11603    139515.0\n",
       "11604    124894.0\n",
       "11605    140873.0\n",
       "11606    121037.0\n",
       "11607    141634.0\n",
       "11608    143211.0\n",
       "11609    145366.0\n",
       "11610    137597.0\n",
       "11611    130977.0\n",
       "11612    126863.0\n",
       "11613    128434.0\n",
       "11614    115509.0\n",
       "11615    123510.0\n",
       "11616    115491.0\n",
       "Name: weight, dtype: float64"
      ]
     },
     "execution_count": 16,
     "metadata": {},
     "output_type": "execute_result"
    }
   ],
   "source": [
    "total_population = KC_youth_2018.groupby('puma').weight.sum()\n",
    "total_population"
   ]
  },
  {
   "cell_type": "code",
   "execution_count": 17,
   "metadata": {},
   "outputs": [
    {
     "data": {
      "text/plain": [
       "puma\n",
       "11601    29024.0\n",
       "11602    24598.0\n",
       "11603    29597.0\n",
       "11604    26400.0\n",
       "11605    31676.0\n",
       "11606    29744.0\n",
       "11607    30707.0\n",
       "11608    35357.0\n",
       "11609    31655.0\n",
       "11610    31740.0\n",
       "11611    32185.0\n",
       "11612    31484.0\n",
       "11613    30065.0\n",
       "11614    27898.0\n",
       "11615    29231.0\n",
       "11616    24706.0\n",
       "Name: weight, dtype: float64"
      ]
     },
     "execution_count": 17,
     "metadata": {},
     "output_type": "execute_result"
    }
   ],
   "source": [
    "OY_youth = KC_youth_2018[(KC_youth_2018['employment_status']=='Unemployed/not in labor force')&\n",
    "                         (KC_youth_2018['school']=='Has not attended in last 3 months')]\n",
    "\n",
    "OY_population = OY_youth.groupby('puma').weight.sum()\n",
    "OY_population"
   ]
  },
  {
   "cell_type": "code",
   "execution_count": 18,
   "metadata": {},
   "outputs": [
    {
     "data": {
      "text/plain": [
       "array(['English Speaker', 'Poor or No English language'], dtype=object)"
      ]
     },
     "execution_count": 18,
     "metadata": {},
     "output_type": "execute_result"
    }
   ],
   "source": [
    "KC_youth_2018.english_language.unique()"
   ]
  },
  {
   "cell_type": "code",
   "execution_count": 19,
   "metadata": {},
   "outputs": [
    {
     "data": {
      "text/plain": [
       "puma\n",
       "11601     2176.0\n",
       "11602     2900.0\n",
       "11603     3116.0\n",
       "11604     5540.0\n",
       "11605    10644.0\n",
       "11606     4178.0\n",
       "11607     4606.0\n",
       "11608     7794.0\n",
       "11609     3885.0\n",
       "11610     9218.0\n",
       "11611    12808.0\n",
       "11612     6875.0\n",
       "11613    11932.0\n",
       "11614     6048.0\n",
       "11615     1787.0\n",
       "11616     1212.0\n",
       "Name: weight, dtype: float64"
      ]
     },
     "execution_count": 19,
     "metadata": {},
     "output_type": "execute_result"
    }
   ],
   "source": [
    "ESL = KC_youth_2018[KC_youth_2018['english_language']=='Poor or No English language']\n",
    "\n",
    "ESL_population = ESL.groupby('puma').weight.sum()\n",
    "ESL_population"
   ]
  },
  {
   "cell_type": "code",
   "execution_count": 20,
   "metadata": {},
   "outputs": [
    {
     "data": {
      "text/plain": [
       "puma\n",
       "11601    0.188786\n",
       "11602    0.189774\n",
       "11603    0.212142\n",
       "11604    0.211379\n",
       "11605    0.224855\n",
       "11606    0.245743\n",
       "11607    0.216805\n",
       "11608    0.246887\n",
       "11609    0.217761\n",
       "11610    0.230674\n",
       "11611    0.245730\n",
       "11612    0.248173\n",
       "11613    0.234089\n",
       "11614    0.241522\n",
       "11615    0.236669\n",
       "11616    0.213921\n",
       "Name: weight, dtype: float64"
      ]
     },
     "execution_count": 20,
     "metadata": {},
     "output_type": "execute_result"
    }
   ],
   "source": [
    "OY_rate = OY_population/total_population\n",
    "ESL_rate = ESL_population/total_population\n",
    "\n",
    "OY_rate"
   ]
  },
  {
   "cell_type": "code",
   "execution_count": 21,
   "metadata": {},
   "outputs": [
    {
     "data": {
      "text/plain": [
       "puma\n",
       "11601    0.014154\n",
       "11602    0.022374\n",
       "11603    0.022335\n",
       "11604    0.044358\n",
       "11605    0.075557\n",
       "11606    0.034518\n",
       "11607    0.032520\n",
       "11608    0.054423\n",
       "11609    0.026726\n",
       "11610    0.066993\n",
       "11611    0.097788\n",
       "11612    0.054192\n",
       "11613    0.092904\n",
       "11614    0.052360\n",
       "11615    0.014468\n",
       "11616    0.010494\n",
       "Name: weight, dtype: float64"
      ]
     },
     "execution_count": 21,
     "metadata": {},
     "output_type": "execute_result"
    }
   ],
   "source": [
    "ESL_rate"
   ]
  },
  {
   "cell_type": "code",
   "execution_count": 22,
   "metadata": {},
   "outputs": [
    {
     "data": {
      "text/plain": [
       "<matplotlib.collections.PathCollection at 0x7f99c219eac0>"
      ]
     },
     "execution_count": 22,
     "metadata": {},
     "output_type": "execute_result"
    },
    {
     "data": {
      "image/png": "[encoded data removed]",
      "text/plain": [
       "<Figure size 576x576 with 1 Axes>"
      ]
     },
     "metadata": {
      "needs_background": "light"
     },
     "output_type": "display_data"
    }
   ],
   "source": [
    "fig, ax = plt.subplots(1,1, figsize=(8,8))\n",
    "\n",
    "ax.scatter(x=ESL_rate, y=OY_rate)"
   ]
  },
  {
   "cell_type": "code",
   "execution_count": 24,
   "metadata": {},
   "outputs": [],
   "source": [
    "non_engish_vs_oy = pd.concat((ESL_rate, OY_rate), axis=1)"
   ]
  },
  {
   "cell_type": "code",
   "execution_count": 25,
   "metadata": {},
   "outputs": [],
   "source": [
    "non_engish_vs_oy.columns = ['Non-english_rate', 'OY_rate']"
   ]
  },
  {
   "cell_type": "code",
   "execution_count": 33,
   "metadata": {},
   "outputs": [
    {
     "ename": "TypeError",
     "evalue": "join() got an unexpected keyword argument 'left_index'",
     "output_type": "error",
     "traceback": [
      "\u001b[0;31m---------------------------------------------------------------------------\u001b[0m",
      "\u001b[0;31mTypeError\u001b[0m                                 Traceback (most recent call last)",
      "\u001b[0;32m<ipython-input-33-371335e2e051>\u001b[0m in \u001b[0;36m<module>\u001b[0;34m\u001b[0m\n\u001b[1;32m      5\u001b[0m \u001b[0mright\u001b[0m \u001b[0;34m=\u001b[0m \u001b[0mKC_youth_2018\u001b[0m\u001b[0;34m[\u001b[0m\u001b[0mKC_youth_2018\u001b[0m\u001b[0;34m[\u001b[0m\u001b[0;34m'school'\u001b[0m\u001b[0;34m]\u001b[0m\u001b[0;34m==\u001b[0m\u001b[0;34m'Has not attended in last 3 months'\u001b[0m\u001b[0;34m]\u001b[0m\u001b[0;34m\u001b[0m\u001b[0;34m\u001b[0m\u001b[0m\n\u001b[1;32m      6\u001b[0m \u001b[0;34m\u001b[0m\u001b[0m\n\u001b[0;32m----> 7\u001b[0;31m \u001b[0mresult\u001b[0m \u001b[0;34m=\u001b[0m \u001b[0mleft\u001b[0m\u001b[0;34m.\u001b[0m\u001b[0mjoin\u001b[0m\u001b[0;34m(\u001b[0m\u001b[0mright\u001b[0m\u001b[0;34m,\u001b[0m \u001b[0mhow\u001b[0m\u001b[0;34m=\u001b[0m\u001b[0;34m'inner'\u001b[0m\u001b[0;34m,\u001b[0m  \u001b[0mleft_index\u001b[0m\u001b[0;34m=\u001b[0m\u001b[0;32mTrue\u001b[0m\u001b[0;34m,\u001b[0m \u001b[0mright_index\u001b[0m\u001b[0;34m=\u001b[0m\u001b[0;32mTrue\u001b[0m\u001b[0;34m)\u001b[0m\u001b[0;34m\u001b[0m\u001b[0;34m\u001b[0m\u001b[0m\n\u001b[0m\u001b[1;32m      8\u001b[0m \u001b[0mresult\u001b[0m\u001b[0;34m\u001b[0m\u001b[0;34m\u001b[0m\u001b[0m\n",
      "\u001b[0;31mTypeError\u001b[0m: join() got an unexpected keyword argument 'left_index'"
     ]
    }
   ],
   "source": [
    "OY_youth = KC_youth_2018[(KC_youth_2018['employment_status']=='Unemployed/not in labor force')&\n",
    "                         (KC_youth_2018['school']=='Has not attended in last 3 months')]\n",
    "\n"
   ]
  },
  {
   "cell_type": "code",
   "execution_count": null,
   "metadata": {},
   "outputs": [],
   "source": [
    "def compare_oy_with_total_youth(variable_and_status, df_1, df_2):\n",
    "    #takes a tuple, variable_and_status, that is compsed of the variable column you want to check \n",
    "    #and the status which you want to compare. Also takes the data frame you want to look at.\n",
    "    variable = variable_and_status[0]\n",
    "    status = variable_and_status[1]\n",
    "    \n",
    "    total_1 = df_1.weighted_total.sum()\n",
    "    var_total_1 = oy[oy[variable] == status].weighted_total.sum()\n",
    "    prct_1 = oy_var_total/oy_total\n",
    "    \n",
    "    total_2 = youth_df.weighted_total.sum()\n",
    "    var_total_2 = youth_df[youth_df[variable] == status].weighted_total.sum()\n",
    "    prct_2 = youth_var_total/youth_total\n",
    "    \n",
    "    return {'Total Youth (ages 16-14)': youth_prct, 'Opportunity Youth': oy_prct}\n",
    "\n",
    "\n",
    "youth_df[(youth_df['school'] == 'Has not attended in last 3 months') &\n",
    "         (youth_df['employment_status'] == 'Unemployed/not in labor force')]\n",
    "\n",
    "\n",
    "\n",
    "def create_side_by_side(variable_and_status, df_1, df_2)\n",
    "    comparison_dict = compare_oy_with_total_youth(('disability_status', 'reported disability'),skc_youth_2017)\n",
    "\n",
    "    col_names = list(comparison_dict.keys())\n",
    "    height_values = list(comparison_dict.values())\n",
    "\n",
    "    fig, ax = plt.subplots(1,1, figsize=(8,8))\n",
    "\n",
    "    ax.set_title('Higher Percentage of Disability Among Opportunity Youth')\n",
    "    ax.set_ylabel('Percent of Sample')\n",
    "\n",
    "    ax.bar(x=col_names, height=height_values);\n",
    "    plt.savefig('Disability.png')"
   ]
  }
 ],
 "metadata": {
  "kernelspec": {
   "display_name": "Python 3",
   "language": "python",
   "name": "python3"
  },
  "language_info": {
   "codemirror_mode": {
    "name": "ipython",
    "version": 3
   },
   "file_extension": ".py",
   "mimetype": "text/x-python",
   "name": "python",
   "nbconvert_exporter": "python",
   "pygments_lexer": "ipython3",
   "version": "3.8.1"
  }
 },
 "nbformat": 4,
 "nbformat_minor": 4
}
