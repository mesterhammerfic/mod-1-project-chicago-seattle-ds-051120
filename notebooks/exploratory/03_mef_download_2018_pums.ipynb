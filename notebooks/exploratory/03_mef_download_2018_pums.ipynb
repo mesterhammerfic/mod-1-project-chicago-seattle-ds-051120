{
 "cells": [
  {
   "cell_type": "markdown",
   "metadata": {},
   "source": [
    "## Copied from original data download notebook.\n",
    "\n",
    "The following lines of code are copied straight from the original data download notebook with only a few modifications so that they utilize the new 2018 python scripts. If you made any modifications to the original notebook in order to get it to run, you will need to repeat those steps. Otherwise, run everything as is."
   ]
  },
  {
   "cell_type": "code",
   "execution_count": 10,
   "metadata": {},
   "outputs": [
    {
     "name": "stdout",
     "output_type": "stream",
     "text": [
      "The autoreload extension is already loaded. To reload it, use:\n",
      "  %reload_ext autoreload\n"
     ]
    }
   ],
   "source": [
    "%load_ext autoreload\n",
    "%autoreload 2"
   ]
  },
  {
   "cell_type": "code",
   "execution_count": 11,
   "metadata": {},
   "outputs": [],
   "source": [
    "import os\n",
    "import sys\n",
    "module_path = os.path.abspath(os.path.join(os.pardir, os.pardir))\n",
    "if module_path not in sys.path:\n",
    "    sys.path.append(module_path)"
   ]
  },
  {
   "cell_type": "code",
   "execution_count": 12,
   "metadata": {},
   "outputs": [],
   "source": [
    "from src.data import data_collection_2018"
   ]
  },
  {
   "cell_type": "code",
   "execution_count": 13,
   "metadata": {},
   "outputs": [
    {
     "name": "stdout",
     "output_type": "stream",
     "text": [
      "Successfully downloaded ZIP file\n",
      "    https://www2.census.gov/programs-surveys/acs/data/pums/2018/5-Year/csv_pwa.zip\n",
      "    \n",
      "Successfully loaded CSV file into `pums_2018` table\n",
      "        \n"
     ]
    }
   ],
   "source": [
    "data_collection_2018.download_data_and_load_into_sql()"
   ]
  },
  {
   "cell_type": "code",
   "execution_count": 18,
   "metadata": {},
   "outputs": [],
   "source": [
    "import pandas as pd\n",
    "import psycopg2\n",
    "\n",
    "\n",
    "#Retrieving postgres info for MEF\n",
    "# from src.data import local\n",
    "# PORT = local.port\n",
    "# USER = local.user\n",
    "# HOST = local.host\n",
    "# PASSWORD = local.password\n",
    "\n",
    "# conn = psycopg2.connect(dbname=DBNAME, user=USER, password=PASSWORD, port=PORT, host=HOST)\n",
    "\n",
    "DBNAME = \"opportunity_youth\"\n",
    "conn = psycopg2.connect(dbname=DBNAME)"
   ]
  },
  {
   "cell_type": "markdown",
   "metadata": {},
   "source": [
    "### OY youth estimate for 2017"
   ]
  },
  {
   "cell_type": "code",
   "execution_count": 21,
   "metadata": {},
   "outputs": [
    {
     "data": {
      "text/plain": [
       "6723.0"
      ]
     },
     "execution_count": 21,
     "metadata": {},
     "output_type": "execute_result"
    }
   ],
   "source": [
    "query = \"\"\"\n",
    "SELECT agep, sch, esr, pwgtp\n",
    "FROM pums_2017\n",
    "WHERE puma in\n",
    "    (SELECT pn.puma\n",
    "    FROM puma_names_2010 AS pn\n",
    "    WHERE pn.puma_name LIKE '%King%South%'\n",
    "    AND pn.puma_name NOT LIKE '%Northwest%')\n",
    "AND agep BETWEEN 16 and 24\n",
    "AND esr in ('3', '6')\n",
    "AND sch = '1'\n",
    "\"\"\"\n",
    "skc_search = pd.read_sql(query, conn)\n",
    "skc_search.pwgtp.sum()"
   ]
  },
  {
   "cell_type": "markdown",
   "metadata": {},
   "source": [
    "### OY youth estimate for 2018"
   ]
  },
  {
   "cell_type": "code",
   "execution_count": 20,
   "metadata": {},
   "outputs": [
    {
     "data": {
      "text/plain": [
       "6642.0"
      ]
     },
     "execution_count": 20,
     "metadata": {},
     "output_type": "execute_result"
    }
   ],
   "source": [
    "query = \"\"\"\n",
    "SELECT agep, sch, esr, pwgtp\n",
    "FROM pums_2018\n",
    "WHERE puma in\n",
    "    (SELECT pn.puma\n",
    "    FROM puma_names_2010 AS pn\n",
    "    WHERE pn.puma_name LIKE '%King%South%'\n",
    "    AND pn.puma_name NOT LIKE '%Northwest%')\n",
    "AND agep BETWEEN 16 and 24\n",
    "AND esr in ('3', '6')\n",
    "AND sch = '1'\n",
    "\"\"\"\n",
    "skc_search = pd.read_sql(query, conn)\n",
    "skc_search.pwgtp.sum()"
   ]
  },
  {
   "cell_type": "code",
   "execution_count": null,
   "metadata": {},
   "outputs": [],
   "source": [
    "conn.close()"
   ]
  }
 ],
 "metadata": {
  "kernelspec": {
   "display_name": "Python 3",
   "language": "python",
   "name": "python3"
  },
  "language_info": {
   "codemirror_mode": {
    "name": "ipython",
    "version": 3
   },
   "file_extension": ".py",
   "mimetype": "text/x-python",
   "name": "python",
   "nbconvert_exporter": "python",
   "pygments_lexer": "ipython3",
   "version": "3.8.1"
  }
 },
 "nbformat": 4,
 "nbformat_minor": 4
}
