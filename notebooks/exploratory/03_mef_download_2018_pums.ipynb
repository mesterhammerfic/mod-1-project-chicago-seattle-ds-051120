{
 "cells": [
  {
   "cell_type": "markdown",
   "metadata": {},
   "source": [
    "## Copied from original data download notebook.\n",
    "\n",
    "The following lines of code are copied straight from the original data download notebook with only a few modifications so that they utilize the new 2018 python scripts. If you made any modifications to the original notebook in order to get it to run, you will need to repeat those steps. Otherwise, run everything as is."
   ]
  },
  {
   "cell_type": "code",
   "execution_count": 1,
   "metadata": {},
   "outputs": [],
   "source": [
    "%load_ext autoreload\n",
    "%autoreload 2"
   ]
  },
  {
   "cell_type": "code",
   "execution_count": 2,
   "metadata": {},
   "outputs": [],
   "source": [
    "import os\n",
    "import sys\n",
    "module_path = os.path.abspath(os.path.join(os.pardir, os.pardir))\n",
    "if module_path not in sys.path:\n",
    "    sys.path.append(module_path)"
   ]
  },
  {
   "cell_type": "code",
   "execution_count": 4,
   "metadata": {},
   "outputs": [],
   "source": [
    "from src.data import data_collection_2018"
   ]
  },
  {
   "cell_type": "code",
   "execution_count": 5,
   "metadata": {},
   "outputs": [
    {
     "name": "stdout",
     "output_type": "stream",
     "text": [
      "Successfully downloaded ZIP file\n",
      "    https://www2.census.gov/programs-surveys/acs/data/pums/2014/5-Year/csv_pwa.zip\n",
      "    \n",
      "Successfully downloaded ZIP file\n",
      "    https://www2.census.gov/programs-surveys/acs/data/pums/2015/5-Year/csv_pwa.zip\n",
      "    \n",
      "Successfully downloaded ZIP file\n",
      "    https://www2.census.gov/programs-surveys/acs/data/pums/2016/5-Year/csv_pwa.zip\n",
      "    \n",
      "Successfully downloaded ZIP file\n",
      "    https://www2.census.gov/programs-surveys/acs/data/pums/2018/5-Year/csv_pwa.zip\n",
      "    \n"
     ]
    },
    {
     "ename": "BadCopyFileFormat",
     "evalue": "extra data after last expected column\nCONTEXT:  COPY pums_2014, line 1: \"P,2010000000034,01,01802,-0009,53,1094136,00014,46,1,,,6,2,2,2,2,2,,,2,,2,2,,,1,2,2,2,2,2,2,000000,,...\"\n",
     "output_type": "error",
     "traceback": [
      "\u001b[0;31m---------------------------------------------------------------------------\u001b[0m",
      "\u001b[0;31mBadCopyFileFormat\u001b[0m                         Traceback (most recent call last)",
      "\u001b[0;32m<ipython-input-5-0339246391b5>\u001b[0m in \u001b[0;36m<module>\u001b[0;34m\u001b[0m\n\u001b[0;32m----> 1\u001b[0;31m \u001b[0mdata_collection_2018\u001b[0m\u001b[0;34m.\u001b[0m\u001b[0mdownload_data_and_load_into_sql\u001b[0m\u001b[0;34m(\u001b[0m\u001b[0;34m)\u001b[0m\u001b[0;34m\u001b[0m\u001b[0;34m\u001b[0m\u001b[0m\n\u001b[0m",
      "\u001b[0;32m~/flatiron/chi-ds/module_1/week_3/projects/mod-1-project-chicago-seattle-ds-051120/src/data/data_collection_2018.py\u001b[0m in \u001b[0;36mdownload_data_and_load_into_sql\u001b[0;34m()\u001b[0m\n\u001b[1;32m     17\u001b[0m     \u001b[0msql_utils_2018\u001b[0m\u001b[0;34m.\u001b[0m\u001b[0mcreate_tables\u001b[0m\u001b[0;34m(\u001b[0m\u001b[0;34m)\u001b[0m\u001b[0;34m\u001b[0m\u001b[0;34m\u001b[0m\u001b[0m\n\u001b[1;32m     18\u001b[0m     \u001b[0mdata_files_dict\u001b[0m \u001b[0;34m=\u001b[0m \u001b[0mcollect_all_data_files\u001b[0m\u001b[0;34m(\u001b[0m\u001b[0;34m)\u001b[0m\u001b[0;34m\u001b[0m\u001b[0;34m\u001b[0m\u001b[0m\n\u001b[0;32m---> 19\u001b[0;31m     \u001b[0mload_into_sql\u001b[0m\u001b[0;34m(\u001b[0m\u001b[0mdata_files_dict\u001b[0m\u001b[0;34m)\u001b[0m\u001b[0;34m\u001b[0m\u001b[0;34m\u001b[0m\u001b[0m\n\u001b[0m\u001b[1;32m     20\u001b[0m \u001b[0;34m\u001b[0m\u001b[0m\n\u001b[1;32m     21\u001b[0m \u001b[0;34m\u001b[0m\u001b[0m\n",
      "\u001b[0;32m~/flatiron/chi-ds/module_1/week_3/projects/mod-1-project-chicago-seattle-ds-051120/src/data/data_collection_2018.py\u001b[0m in \u001b[0;36mload_into_sql\u001b[0;34m(data_files_dict)\u001b[0m\n\u001b[1;32m     42\u001b[0m     \u001b[0;32mNone\u001b[0m \u001b[0;32mor\u001b[0m \u001b[0msome\u001b[0m \u001b[0mother\u001b[0m \u001b[0mfile\u001b[0m \u001b[0mto\u001b[0m \u001b[0mbe\u001b[0m \u001b[0mclosed\u001b[0m\u001b[0;34m,\u001b[0m \u001b[0me\u001b[0m\u001b[0;34m.\u001b[0m\u001b[0mg\u001b[0m\u001b[0;34m.\u001b[0m \u001b[0ma\u001b[0m \u001b[0mzip\u001b[0m \u001b[0mfile\u001b[0m\u001b[0;34m\u001b[0m\u001b[0;34m\u001b[0m\u001b[0m\n\u001b[1;32m     43\u001b[0m     \"\"\"\n\u001b[0;32m---> 44\u001b[0;31m     \u001b[0msql_utils_2018\u001b[0m\u001b[0;34m.\u001b[0m\u001b[0mcopy_csv_files\u001b[0m\u001b[0;34m(\u001b[0m\u001b[0mdata_files_dict\u001b[0m\u001b[0;34m)\u001b[0m\u001b[0;34m\u001b[0m\u001b[0;34m\u001b[0m\u001b[0m\n\u001b[0m\u001b[1;32m     45\u001b[0m \u001b[0;34m\u001b[0m\u001b[0m\n\u001b[1;32m     46\u001b[0m     \u001b[0;32mfor\u001b[0m \u001b[0mcsv_file\u001b[0m\u001b[0;34m,\u001b[0m \u001b[0mother_file\u001b[0m \u001b[0;32min\u001b[0m \u001b[0mdata_files_dict\u001b[0m\u001b[0;34m.\u001b[0m\u001b[0mvalues\u001b[0m\u001b[0;34m(\u001b[0m\u001b[0;34m)\u001b[0m\u001b[0;34m:\u001b[0m\u001b[0;34m\u001b[0m\u001b[0;34m\u001b[0m\u001b[0m\n",
      "\u001b[0;32m~/flatiron/chi-ds/module_1/week_3/projects/mod-1-project-chicago-seattle-ds-051120/src/data/sql_utils_2018.py\u001b[0m in \u001b[0;36mcopy_csv_files\u001b[0;34m(data_files_dict)\u001b[0m\n\u001b[1;32m     74\u001b[0m         \u001b[0mnext\u001b[0m\u001b[0;34m(\u001b[0m\u001b[0mcsv_file\u001b[0m\u001b[0;34m)\u001b[0m\u001b[0;34m\u001b[0m\u001b[0;34m\u001b[0m\u001b[0m\n\u001b[1;32m     75\u001b[0m         \u001b[0;32mif\u001b[0m \u001b[0mname\u001b[0m \u001b[0;34m==\u001b[0m \u001b[0;34m\"pums_2014\"\u001b[0m\u001b[0;34m:\u001b[0m\u001b[0;34m\u001b[0m\u001b[0;34m\u001b[0m\u001b[0m\n\u001b[0;32m---> 76\u001b[0;31m             \u001b[0mcopy_csv_to_pums_2014_table\u001b[0m\u001b[0;34m(\u001b[0m\u001b[0mconn\u001b[0m\u001b[0;34m,\u001b[0m \u001b[0mcsv_file\u001b[0m\u001b[0;34m)\u001b[0m\u001b[0;34m\u001b[0m\u001b[0;34m\u001b[0m\u001b[0m\n\u001b[0m\u001b[1;32m     77\u001b[0m         \u001b[0;32melif\u001b[0m \u001b[0mname\u001b[0m \u001b[0;34m==\u001b[0m \u001b[0;34m\"pums_2015\"\u001b[0m\u001b[0;34m:\u001b[0m\u001b[0;34m\u001b[0m\u001b[0;34m\u001b[0m\u001b[0m\n\u001b[1;32m     78\u001b[0m             \u001b[0mcopy_csv_to_pums_2015_table\u001b[0m\u001b[0;34m(\u001b[0m\u001b[0mconn\u001b[0m\u001b[0;34m,\u001b[0m \u001b[0mcsv_file\u001b[0m\u001b[0;34m)\u001b[0m\u001b[0;34m\u001b[0m\u001b[0;34m\u001b[0m\u001b[0m\n",
      "\u001b[0;32m~/flatiron/chi-ds/module_1/week_3/projects/mod-1-project-chicago-seattle-ds-051120/src/data/sql_utils_2018.py\u001b[0m in \u001b[0;36mcopy_csv_to_pums_2014_table\u001b[0;34m(conn, csv_file)\u001b[0m\n\u001b[1;32m     92\u001b[0m     \"\"\"\n\u001b[1;32m     93\u001b[0m     \u001b[0mCOPY_PUMS_2014\u001b[0m \u001b[0;34m=\u001b[0m \u001b[0;34m\"copy_pums_2014_to_table.psql\"\u001b[0m\u001b[0;34m\u001b[0m\u001b[0;34m\u001b[0m\u001b[0m\n\u001b[0;32m---> 94\u001b[0;31m     \u001b[0mcopy_expert_psql_script\u001b[0m\u001b[0;34m(\u001b[0m\u001b[0mconn\u001b[0m\u001b[0;34m,\u001b[0m \u001b[0mCOPY_PUMS_2014\u001b[0m\u001b[0;34m,\u001b[0m \u001b[0mcsv_file\u001b[0m\u001b[0;34m)\u001b[0m\u001b[0;34m\u001b[0m\u001b[0;34m\u001b[0m\u001b[0m\n\u001b[0m\u001b[1;32m     95\u001b[0m \u001b[0;34m\u001b[0m\u001b[0m\n\u001b[1;32m     96\u001b[0m \u001b[0;32mdef\u001b[0m \u001b[0mcopy_csv_to_pums_2015_table\u001b[0m\u001b[0;34m(\u001b[0m\u001b[0mconn\u001b[0m\u001b[0;34m,\u001b[0m \u001b[0mcsv_file\u001b[0m\u001b[0;34m)\u001b[0m\u001b[0;34m:\u001b[0m\u001b[0;34m\u001b[0m\u001b[0;34m\u001b[0m\u001b[0m\n",
      "\u001b[0;32m~/flatiron/chi-ds/module_1/week_3/projects/mod-1-project-chicago-seattle-ds-051120/src/data/sql_utils_2018.py\u001b[0m in \u001b[0;36mcopy_expert_psql_script\u001b[0;34m(conn, script_filename, csv_file)\u001b[0m\n\u001b[1;32m    149\u001b[0m     \u001b[0mfile_contents\u001b[0m \u001b[0;34m=\u001b[0m \u001b[0mopen_sql_script\u001b[0m\u001b[0;34m(\u001b[0m\u001b[0mscript_filename\u001b[0m\u001b[0;34m)\u001b[0m\u001b[0;34m\u001b[0m\u001b[0;34m\u001b[0m\u001b[0m\n\u001b[1;32m    150\u001b[0m     \u001b[0mcursor\u001b[0m \u001b[0;34m=\u001b[0m \u001b[0mconn\u001b[0m\u001b[0;34m.\u001b[0m\u001b[0mcursor\u001b[0m\u001b[0;34m(\u001b[0m\u001b[0;34m)\u001b[0m\u001b[0;34m\u001b[0m\u001b[0;34m\u001b[0m\u001b[0m\n\u001b[0;32m--> 151\u001b[0;31m     \u001b[0mcursor\u001b[0m\u001b[0;34m.\u001b[0m\u001b[0mcopy_expert\u001b[0m\u001b[0;34m(\u001b[0m\u001b[0mfile_contents\u001b[0m\u001b[0;34m,\u001b[0m \u001b[0mcsv_file\u001b[0m\u001b[0;34m)\u001b[0m\u001b[0;34m\u001b[0m\u001b[0;34m\u001b[0m\u001b[0m\n\u001b[0m\u001b[1;32m    152\u001b[0m     \u001b[0mconn\u001b[0m\u001b[0;34m.\u001b[0m\u001b[0mcommit\u001b[0m\u001b[0;34m(\u001b[0m\u001b[0;34m)\u001b[0m\u001b[0;34m\u001b[0m\u001b[0;34m\u001b[0m\u001b[0m\n",
      "\u001b[0;31mBadCopyFileFormat\u001b[0m: extra data after last expected column\nCONTEXT:  COPY pums_2014, line 1: \"P,2010000000034,01,01802,-0009,53,1094136,00014,46,1,,,6,2,2,2,2,2,,,2,,2,2,,,1,2,2,2,2,2,2,000000,,...\"\n"
     ]
    }
   ],
   "source": [
    "data_collection_2018.download_data_and_load_into_sql()"
   ]
  },
  {
   "cell_type": "code",
   "execution_count": 18,
   "metadata": {},
   "outputs": [],
   "source": [
    "import pandas as pd\n",
    "import psycopg2\n",
    "\n",
    "DBNAME = \"opportunity_youth\"\n",
    "\n",
    "#Retrieving postgres info for MEF\n",
    "from src.data import local\n",
    "PORT = local.port\n",
    "USER = local.user\n",
    "HOST = local.host\n",
    "PASSWORD = local.password\n",
    "conn = psycopg2.connect(dbname=DBNAME, user=USER, password=PASSWORD, port=PORT, host=HOST)\n",
    "\n",
    "\n",
    "# conn = psycopg2.connect(dbname=DBNAME)"
   ]
  },
  {
   "cell_type": "markdown",
   "metadata": {},
   "source": [
    "### OY youth estimate for 2017"
   ]
  },
  {
   "cell_type": "code",
   "execution_count": 21,
   "metadata": {},
   "outputs": [
    {
     "data": {
      "text/plain": [
       "6723.0"
      ]
     },
     "execution_count": 21,
     "metadata": {},
     "output_type": "execute_result"
    }
   ],
   "source": [
    "query = \"\"\"\n",
    "SELECT agep, sch, esr, pwgtp\n",
    "FROM pums_2017\n",
    "WHERE puma in\n",
    "    (SELECT pn.puma\n",
    "    FROM puma_names_2010 AS pn\n",
    "    WHERE pn.puma_name LIKE '%King%South%'\n",
    "    AND pn.puma_name NOT LIKE '%Northwest%')\n",
    "AND agep BETWEEN 16 and 24\n",
    "AND esr in ('3', '6')\n",
    "AND sch = '1'\n",
    "\"\"\"\n",
    "skc_search = pd.read_sql(query, conn)\n",
    "skc_search.pwgtp.sum()"
   ]
  },
  {
   "cell_type": "markdown",
   "metadata": {},
   "source": [
    "### OY youth estimate for 2018"
   ]
  },
  {
   "cell_type": "code",
   "execution_count": 20,
   "metadata": {},
   "outputs": [
    {
     "data": {
      "text/plain": [
       "6642.0"
      ]
     },
     "execution_count": 20,
     "metadata": {},
     "output_type": "execute_result"
    }
   ],
   "source": [
    "query = \"\"\"\n",
    "SELECT agep, sch, esr, pwgtp\n",
    "FROM pums_2018\n",
    "WHERE puma in\n",
    "    (SELECT pn.puma\n",
    "    FROM puma_names_2010 AS pn\n",
    "    WHERE pn.puma_name LIKE '%King%South%'\n",
    "    AND pn.puma_name NOT LIKE '%Northwest%')\n",
    "AND agep BETWEEN 16 and 24\n",
    "AND esr in ('3', '6')\n",
    "AND sch = '1'\n",
    "\"\"\"\n",
    "skc_search = pd.read_sql(query, conn)\n",
    "skc_search.pwgtp.sum()"
   ]
  },
  {
   "cell_type": "code",
   "execution_count": null,
   "metadata": {},
   "outputs": [],
   "source": [
    "conn.close()"
   ]
  }
 ],
 "metadata": {
  "kernelspec": {
   "display_name": "Python 3",
   "language": "python",
   "name": "python3"
  },
  "language_info": {
   "codemirror_mode": {
    "name": "ipython",
    "version": 3
   },
   "file_extension": ".py",
   "mimetype": "text/x-python",
   "name": "python",
   "nbconvert_exporter": "python",
   "pygments_lexer": "ipython3",
   "version": "3.8.1"
  }
 },
 "nbformat": 4,
 "nbformat_minor": 4
}
