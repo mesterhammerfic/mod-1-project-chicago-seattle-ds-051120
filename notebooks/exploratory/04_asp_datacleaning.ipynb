{
 "cells": [
  {
   "cell_type": "markdown",
   "metadata": {},
   "source": [
    "gathering data from the tables to be used in analysis - not all columns in the tables are needed for our purposes.  \n",
    "SQL tables being used:  \n",
    "    pums_2017\n",
    "    pums_2018 \n",
    "    puma_names_2010\n",
    "    wa_jobs_2017\n",
    "    wa_geo_xwalk \n",
    "    ct_puma_xwalk"
   ]
  },
  {
   "cell_type": "code",
   "execution_count": null,
   "metadata": {
    "collapsed": true,
    "jupyter": {
     "outputs_hidden": true
    }
   },
   "outputs": [],
   "source": [
    "import psycopg2\n",
    "import pandas as pd\n",
    "import matplotlib.pyplot as plt\n",
    "%matplotlib inline\n",
    "DBNAME = \"opportunity_youth\"\n",
    "conn = psycopg2.connect(dbname=DBNAME)"
   ]
  },
  {
   "cell_type": "code",
   "execution_count": null,
   "metadata": {
    "collapsed": true,
    "jupyter": {
     "outputs_hidden": true
    }
   },
   "outputs": [],
   "source": [
    "WAresp = pd.read_sql(\"\"\"\n",
    "                   SELECT agep\n",
    "                   FROM pums_2017\n",
    "                   WHERE st = '53'\n",
    "                   \"\"\",conn)"
   ]
  },
  {
   "cell_type": "code",
   "execution_count": null,
   "metadata": {
    "collapsed": true,
    "jupyter": {
     "outputs_hidden": true
    }
   },
   "outputs": [],
   "source": [
    "WAresp.plot.hist(bins = 20);"
   ]
  },
  {
   "cell_type": "code",
   "execution_count": null,
   "metadata": {
    "collapsed": true,
    "jupyter": {
     "outputs_hidden": true
    }
   },
   "outputs": [],
   "source": [
    "WAresp.agep.mean()"
   ]
  },
  {
   "cell_type": "code",
   "execution_count": null,
   "metadata": {
    "collapsed": true,
    "jupyter": {
     "outputs_hidden": true
    }
   },
   "outputs": [],
   "source": [
    "WAresp.agep.mode()"
   ]
  },
  {
   "cell_type": "code",
   "execution_count": null,
   "metadata": {
    "collapsed": true,
    "jupyter": {
     "outputs_hidden": true
    }
   },
   "outputs": [],
   "source": [
    "KingCounty = pd.read_sql(\"\"\"\n",
    "                         SELECT agep\n",
    "                         FROM pums_2017 p\n",
    "                         JOIN puma_names_2010 n \n",
    "                              ON p.puma = n.puma\n",
    "                         WHERE state_name = 'Washington'\n",
    "                         AND puma_name like ('%King%County%')\"\"\",conn)\n",
    "KingCounty"
   ]
  },
  {
   "cell_type": "code",
   "execution_count": null,
   "metadata": {
    "collapsed": true,
    "jupyter": {
     "outputs_hidden": true
    }
   },
   "outputs": [],
   "source": [
    "KingCounty.plot.hist(bins = 20);"
   ]
  },
  {
   "cell_type": "code",
   "execution_count": null,
   "metadata": {
    "collapsed": true,
    "jupyter": {
     "outputs_hidden": true
    }
   },
   "outputs": [],
   "source": [
    "KingCounty.agep.median()"
   ]
  },
  {
   "cell_type": "code",
   "execution_count": null,
   "metadata": {
    "collapsed": true,
    "jupyter": {
     "outputs_hidden": true
    }
   },
   "outputs": [],
   "source": [
    "KingCounty.agep.mode()"
   ]
  },
  {
   "cell_type": "code",
   "execution_count": null,
   "metadata": {
    "collapsed": true,
    "jupyter": {
     "outputs_hidden": true
    }
   },
   "outputs": [],
   "source": [
    "SKC = pd.read_sql(\"\"\"\n",
    "                  SELECT agep\n",
    "                  FROM pums_2017 p\n",
    "                  JOIN puma_names_2010 n on p.puma = n.puma\n",
    "                  WHERE p.puma in ('11610','11611','11612','11613','11614','11615')\"\"\",conn)\n",
    "SKC"
   ]
  },
  {
   "cell_type": "code",
   "execution_count": null,
   "metadata": {
    "collapsed": true,
    "jupyter": {
     "outputs_hidden": true
    }
   },
   "outputs": [],
   "source": [
    "SKC.agep.median()"
   ]
  },
  {
   "cell_type": "code",
   "execution_count": null,
   "metadata": {
    "collapsed": true,
    "jupyter": {
     "outputs_hidden": true
    }
   },
   "outputs": [],
   "source": [
    "SKC.agep.mode()"
   ]
  },
  {
   "cell_type": "code",
   "execution_count": null,
   "metadata": {
    "collapsed": true,
    "jupyter": {
     "outputs_hidden": true
    }
   },
   "outputs": [],
   "source": [
    "SKC.plot.hist(bins=20);"
   ]
  },
  {
   "cell_type": "code",
   "execution_count": null,
   "metadata": {
    "collapsed": true,
    "jupyter": {
     "outputs_hidden": true
    }
   },
   "outputs": [],
   "source": [
    "pd.read_sql(\"\"\"\n",
    "            SELECT agep, puma\n",
    "            FROM pums_2018\n",
    "            LIMIT 10\"\"\",conn)"
   ]
  },
  {
   "cell_type": "code",
   "execution_count": null,
   "metadata": {
    "collapsed": true,
    "jupyter": {
     "outputs_hidden": true,
     "source_hidden": true
    }
   },
   "outputs": [],
   "source": [
    "dt2017 = pd.read_sql(\"\"\"\n",
    "            SELECT p.puma, rtrim(puma_name), agep, \n",
    "            CASE WHEN p.sex = '1' THEN 'male'\n",
    "                 ELSE 'female'\n",
    "                 END as gender,\n",
    "            CASE WHEN p.racasn = '1' THEN 'asian'\n",
    "                 WHEN p.racblk = '1' THEN 'black or African American'\n",
    "                 WHEN p.racwht = '1' THEN 'white'\n",
    "                 WHEN p.hisp <> '1' THEN 'hispanic' \n",
    "                 END as race_or_ethnicity,\n",
    "            CASE WHEN p.sch = '1' THEN 'Has not attended in last 3 months'\n",
    "                 WHEN p.sch IN ('2','3') THEN 'public or private school or college and homeschool'\n",
    "                 END as School,\n",
    "            CASE WHEN p.schl in ('16','17') THEN 'HS diploma or GED'\n",
    "                 WHEN p.schl in ('18','19','20','21','22','23','24') THEN 'post HS education'\n",
    "                 ELSE 'No HS or GED'\n",
    "                 END as Education_attainment,\n",
    "            CASE WHEN p.esr in ('1','2') THEN 'employed'\n",
    "                 WHEN p.esr in ('3','6') THEN 'Unemployed/not in labor force'\n",
    "                 WHEN p.esr IN ('4','5') THEN 'Armed Forces'\n",
    "                 END as Employment_status,\n",
    "            CASE WHEN p.dis = '1' THEN 'reported disability'\n",
    "                 ELSE 'no reported disability'\n",
    "                 END as disability_status,\n",
    "            CASE WHEN p.ddrs = '1' THEN 'Self-care difficulty'\n",
    "                 WHEN p.dear = '1' THEN 'Hearing difficulty'\n",
    "                 WHEN p.deye = '1' THEN 'Vision difficulty'\n",
    "                 WHEN p.dphy = '1' THEN 'Ambulatory difficulty'\n",
    "                 WHEN p.drem = '1' THEN 'Cognitive difficulty'\n",
    "                 ELSE 'None reported' \n",
    "                 END as disability_type,\n",
    "            CASE WHEN p.cit IN ('1','2','3','4') THEN 'US Citizen'\n",
    "                 WHEN p.cit = '5' THEN 'Not US Citizen' \n",
    "                 END as Citizenship,\n",
    "            CASE WHEN p.eng IN ('1','2') THEN 'English Speaker'\n",
    "                 ELSE 'Poor or No English language'\n",
    "                 END as English_language,\n",
    "            CASE WHEN p.wkl = '1' THEN 'employed in the last year'\n",
    "                 WHEN p.wkl in ('2','3') THEN 'not employed in the last year' \n",
    "                 END AS last_employed,\n",
    "            CASE WHEN p.esp in ('1','2','3','5','6','7','8') THEN 'One or both parents in labor force'\n",
    "                 WHEN p.esp = '4' THEN 'Neither parent in labor force'\n",
    "                 END as Parent_employment,\n",
    "            CASE WHEN p.mar = '1' THEN 'married'\n",
    "                 WHEN p.mar = '5' THEN 'never married'\n",
    "                 ELSE 'divorced, widowed, or separated' \n",
    "                 END as marital_status,\n",
    "            CASE WHEN p.fer = '1' THEN 'yes' \n",
    "                 END AS Child_born_las_year,\n",
    "            CASE WHEN p.paoc in ('1','2','3') THEN 'own child(ren)' \n",
    "                 ELSE 'no own children' \n",
    "                 END as Presence_of_children, \n",
    "            CASE WHEN p.mig = '1' THEN 'lived here last year' \n",
    "                 ELSE 'moved here last year' \n",
    "                 END AS Moved,\n",
    "            CASE WHEN p.hicov = '1' THEN 'yes' \n",
    "                 ELSE 'no' \n",
    "                 END as Has_Health_Insurance,\n",
    "            pap as Public_Assistance_Income_past_year,        \n",
    "            pwgtp as Weight\n",
    "            FROM pums_2017 p\n",
    "            JOIN puma_names_2010 n on p.puma = n.puma\n",
    "            WHERE state_name = 'Washington'\n",
    "            AND p.puma IN ('11610','11611', '11612','11613','11614','11615')\n",
    "            AND p.sch = '1' \n",
    "            AND p.esr IN ('3','6')\n",
    "            AND agep BETWEEN 16 AND 24\n",
    "            GROUP BY p.puma,n.puma_name,agep,p.sex,p.racasn,p.racblk,p.racwht,p.hisp,p.sch,p.schl,\n",
    "                     p.esr,p.dis,p.ddrs,p.dear,p.deye,p.dphy,p.drem,p.cit,p.eng,p.wkl,p.esp,\n",
    "                     p.mar,p.fer,p.paoc,p.mig,p.hicov,p.pap,p.pwgtp\n",
    "            ORDER BY school, agep DESC\"\"\", conn)\n",
    "dt2017"
   ]
  },
  {
   "cell_type": "code",
   "execution_count": 72,
   "metadata": {},
   "outputs": [
    {
     "data": {
      "text/html": [
       "<div>\n",
       "<style scoped>\n",
       "    .dataframe tbody tr th:only-of-type {\n",
       "        vertical-align: middle;\n",
       "    }\n",
       "\n",
       "    .dataframe tbody tr th {\n",
       "        vertical-align: top;\n",
       "    }\n",
       "\n",
       "    .dataframe thead th {\n",
       "        text-align: right;\n",
       "    }\n",
       "</style>\n",
       "<table border=\"1\" class=\"dataframe\">\n",
       "  <thead>\n",
       "    <tr style=\"text-align: right;\">\n",
       "      <th></th>\n",
       "      <th>puma</th>\n",
       "      <th>rtrim</th>\n",
       "      <th>agep</th>\n",
       "      <th>gender</th>\n",
       "      <th>race_or_ethnicity</th>\n",
       "      <th>school</th>\n",
       "      <th>education_attainment</th>\n",
       "      <th>employment_status</th>\n",
       "      <th>disability_status</th>\n",
       "      <th>disability_type</th>\n",
       "      <th>...</th>\n",
       "      <th>english_language</th>\n",
       "      <th>last_employed</th>\n",
       "      <th>parent_employment</th>\n",
       "      <th>marital_status</th>\n",
       "      <th>child_born_las_year</th>\n",
       "      <th>presence_of_children</th>\n",
       "      <th>moved</th>\n",
       "      <th>has_health_insurance</th>\n",
       "      <th>public_assistance_income_past_year</th>\n",
       "      <th>weight</th>\n",
       "    </tr>\n",
       "  </thead>\n",
       "  <tbody>\n",
       "    <tr>\n",
       "      <th>0</th>\n",
       "      <td>11614</td>\n",
       "      <td>King County (Southwest)--Auburn City &amp; Lakeland</td>\n",
       "      <td>24.0</td>\n",
       "      <td>female</td>\n",
       "      <td>asian</td>\n",
       "      <td>Has not attended in last 3 months</td>\n",
       "      <td>No HS or GED</td>\n",
       "      <td>Unemployed/not in labor force</td>\n",
       "      <td>no reported disability</td>\n",
       "      <td>None reported</td>\n",
       "      <td>...</td>\n",
       "      <td>English Speaker</td>\n",
       "      <td>not employed in the last year</td>\n",
       "      <td>None</td>\n",
       "      <td>never married</td>\n",
       "      <td>None</td>\n",
       "      <td>no own children</td>\n",
       "      <td>lived here last year</td>\n",
       "      <td>yes</td>\n",
       "      <td>0.0</td>\n",
       "      <td>21.0</td>\n",
       "    </tr>\n",
       "    <tr>\n",
       "      <th>1</th>\n",
       "      <td>11614</td>\n",
       "      <td>King County (Southwest)--Auburn City &amp; Lakeland</td>\n",
       "      <td>24.0</td>\n",
       "      <td>female</td>\n",
       "      <td>black or African American</td>\n",
       "      <td>Has not attended in last 3 months</td>\n",
       "      <td>post HS education</td>\n",
       "      <td>Unemployed/not in labor force</td>\n",
       "      <td>no reported disability</td>\n",
       "      <td>None reported</td>\n",
       "      <td>...</td>\n",
       "      <td>English Speaker</td>\n",
       "      <td>employed in the last year</td>\n",
       "      <td>None</td>\n",
       "      <td>married</td>\n",
       "      <td>yes</td>\n",
       "      <td>no own children</td>\n",
       "      <td>moved here last year</td>\n",
       "      <td>yes</td>\n",
       "      <td>0.0</td>\n",
       "      <td>8.0</td>\n",
       "    </tr>\n",
       "    <tr>\n",
       "      <th>2</th>\n",
       "      <td>11614</td>\n",
       "      <td>King County (Southwest)--Auburn City &amp; Lakeland</td>\n",
       "      <td>24.0</td>\n",
       "      <td>female</td>\n",
       "      <td>white</td>\n",
       "      <td>Has not attended in last 3 months</td>\n",
       "      <td>HS diploma or GED</td>\n",
       "      <td>Unemployed/not in labor force</td>\n",
       "      <td>no reported disability</td>\n",
       "      <td>None reported</td>\n",
       "      <td>...</td>\n",
       "      <td>English Speaker</td>\n",
       "      <td>not employed in the last year</td>\n",
       "      <td>None</td>\n",
       "      <td>never married</td>\n",
       "      <td>None</td>\n",
       "      <td>no own children</td>\n",
       "      <td>lived here last year</td>\n",
       "      <td>no</td>\n",
       "      <td>0.0</td>\n",
       "      <td>3.0</td>\n",
       "    </tr>\n",
       "    <tr>\n",
       "      <th>3</th>\n",
       "      <td>11614</td>\n",
       "      <td>King County (Southwest)--Auburn City &amp; Lakeland</td>\n",
       "      <td>24.0</td>\n",
       "      <td>female</td>\n",
       "      <td>white</td>\n",
       "      <td>Has not attended in last 3 months</td>\n",
       "      <td>post HS education</td>\n",
       "      <td>Unemployed/not in labor force</td>\n",
       "      <td>no reported disability</td>\n",
       "      <td>None reported</td>\n",
       "      <td>...</td>\n",
       "      <td>English Speaker</td>\n",
       "      <td>employed in the last year</td>\n",
       "      <td>None</td>\n",
       "      <td>never married</td>\n",
       "      <td>None</td>\n",
       "      <td>no own children</td>\n",
       "      <td>moved here last year</td>\n",
       "      <td>yes</td>\n",
       "      <td>0.0</td>\n",
       "      <td>23.0</td>\n",
       "    </tr>\n",
       "    <tr>\n",
       "      <th>4</th>\n",
       "      <td>11614</td>\n",
       "      <td>King County (Southwest)--Auburn City &amp; Lakeland</td>\n",
       "      <td>24.0</td>\n",
       "      <td>male</td>\n",
       "      <td>hispanic</td>\n",
       "      <td>Has not attended in last 3 months</td>\n",
       "      <td>No HS or GED</td>\n",
       "      <td>Unemployed/not in labor force</td>\n",
       "      <td>no reported disability</td>\n",
       "      <td>None reported</td>\n",
       "      <td>...</td>\n",
       "      <td>English Speaker</td>\n",
       "      <td>not employed in the last year</td>\n",
       "      <td>None</td>\n",
       "      <td>never married</td>\n",
       "      <td>None</td>\n",
       "      <td>no own children</td>\n",
       "      <td>lived here last year</td>\n",
       "      <td>no</td>\n",
       "      <td>0.0</td>\n",
       "      <td>3.0</td>\n",
       "    </tr>\n",
       "    <tr>\n",
       "      <th>...</th>\n",
       "      <td>...</td>\n",
       "      <td>...</td>\n",
       "      <td>...</td>\n",
       "      <td>...</td>\n",
       "      <td>...</td>\n",
       "      <td>...</td>\n",
       "      <td>...</td>\n",
       "      <td>...</td>\n",
       "      <td>...</td>\n",
       "      <td>...</td>\n",
       "      <td>...</td>\n",
       "      <td>...</td>\n",
       "      <td>...</td>\n",
       "      <td>...</td>\n",
       "      <td>...</td>\n",
       "      <td>...</td>\n",
       "      <td>...</td>\n",
       "      <td>...</td>\n",
       "      <td>...</td>\n",
       "      <td>...</td>\n",
       "      <td>...</td>\n",
       "    </tr>\n",
       "    <tr>\n",
       "      <th>361</th>\n",
       "      <td>11612</td>\n",
       "      <td>King County (Far Southwest)--Federal Way, Des ...</td>\n",
       "      <td>16.0</td>\n",
       "      <td>female</td>\n",
       "      <td>white</td>\n",
       "      <td>Has not attended in last 3 months</td>\n",
       "      <td>No HS or GED</td>\n",
       "      <td>Unemployed/not in labor force</td>\n",
       "      <td>no reported disability</td>\n",
       "      <td>None reported</td>\n",
       "      <td>...</td>\n",
       "      <td>English Speaker</td>\n",
       "      <td>not employed in the last year</td>\n",
       "      <td>One or both parents in labor force</td>\n",
       "      <td>never married</td>\n",
       "      <td>None</td>\n",
       "      <td>no own children</td>\n",
       "      <td>lived here last year</td>\n",
       "      <td>yes</td>\n",
       "      <td>0.0</td>\n",
       "      <td>21.0</td>\n",
       "    </tr>\n",
       "    <tr>\n",
       "      <th>362</th>\n",
       "      <td>11614</td>\n",
       "      <td>King County (Southwest)--Auburn City &amp; Lakeland</td>\n",
       "      <td>16.0</td>\n",
       "      <td>male</td>\n",
       "      <td>white</td>\n",
       "      <td>Has not attended in last 3 months</td>\n",
       "      <td>HS diploma or GED</td>\n",
       "      <td>Unemployed/not in labor force</td>\n",
       "      <td>no reported disability</td>\n",
       "      <td>None reported</td>\n",
       "      <td>...</td>\n",
       "      <td>English Speaker</td>\n",
       "      <td>not employed in the last year</td>\n",
       "      <td>One or both parents in labor force</td>\n",
       "      <td>never married</td>\n",
       "      <td>None</td>\n",
       "      <td>no own children</td>\n",
       "      <td>lived here last year</td>\n",
       "      <td>yes</td>\n",
       "      <td>0.0</td>\n",
       "      <td>12.0</td>\n",
       "    </tr>\n",
       "    <tr>\n",
       "      <th>363</th>\n",
       "      <td>11614</td>\n",
       "      <td>King County (Southwest)--Auburn City &amp; Lakeland</td>\n",
       "      <td>16.0</td>\n",
       "      <td>male</td>\n",
       "      <td>white</td>\n",
       "      <td>Has not attended in last 3 months</td>\n",
       "      <td>No HS or GED</td>\n",
       "      <td>Unemployed/not in labor force</td>\n",
       "      <td>no reported disability</td>\n",
       "      <td>None reported</td>\n",
       "      <td>...</td>\n",
       "      <td>English Speaker</td>\n",
       "      <td>not employed in the last year</td>\n",
       "      <td>One or both parents in labor force</td>\n",
       "      <td>never married</td>\n",
       "      <td>None</td>\n",
       "      <td>no own children</td>\n",
       "      <td>lived here last year</td>\n",
       "      <td>yes</td>\n",
       "      <td>0.0</td>\n",
       "      <td>24.0</td>\n",
       "    </tr>\n",
       "    <tr>\n",
       "      <th>364</th>\n",
       "      <td>11615</td>\n",
       "      <td>King County (Southeast)--Maple Valley, Covingt...</td>\n",
       "      <td>16.0</td>\n",
       "      <td>female</td>\n",
       "      <td>white</td>\n",
       "      <td>Has not attended in last 3 months</td>\n",
       "      <td>No HS or GED</td>\n",
       "      <td>Unemployed/not in labor force</td>\n",
       "      <td>reported disability</td>\n",
       "      <td>None reported</td>\n",
       "      <td>...</td>\n",
       "      <td>English Speaker</td>\n",
       "      <td>not employed in the last year</td>\n",
       "      <td>One or both parents in labor force</td>\n",
       "      <td>never married</td>\n",
       "      <td>None</td>\n",
       "      <td>no own children</td>\n",
       "      <td>lived here last year</td>\n",
       "      <td>yes</td>\n",
       "      <td>0.0</td>\n",
       "      <td>13.0</td>\n",
       "    </tr>\n",
       "    <tr>\n",
       "      <th>365</th>\n",
       "      <td>11610</td>\n",
       "      <td>King County (Central)--Renton City, Fairwood, ...</td>\n",
       "      <td>16.0</td>\n",
       "      <td>male</td>\n",
       "      <td>white</td>\n",
       "      <td>Has not attended in last 3 months</td>\n",
       "      <td>No HS or GED</td>\n",
       "      <td>Unemployed/not in labor force</td>\n",
       "      <td>no reported disability</td>\n",
       "      <td>None reported</td>\n",
       "      <td>...</td>\n",
       "      <td>English Speaker</td>\n",
       "      <td>not employed in the last year</td>\n",
       "      <td>One or both parents in labor force</td>\n",
       "      <td>never married</td>\n",
       "      <td>None</td>\n",
       "      <td>no own children</td>\n",
       "      <td>lived here last year</td>\n",
       "      <td>yes</td>\n",
       "      <td>0.0</td>\n",
       "      <td>24.0</td>\n",
       "    </tr>\n",
       "  </tbody>\n",
       "</table>\n",
       "<p>366 rows × 21 columns</p>\n",
       "</div>"
      ],
      "text/plain": [
       "      puma                                              rtrim  agep  gender  \\\n",
       "0    11614    King County (Southwest)--Auburn City & Lakeland  24.0  female   \n",
       "1    11614    King County (Southwest)--Auburn City & Lakeland  24.0  female   \n",
       "2    11614    King County (Southwest)--Auburn City & Lakeland  24.0  female   \n",
       "3    11614    King County (Southwest)--Auburn City & Lakeland  24.0  female   \n",
       "4    11614    King County (Southwest)--Auburn City & Lakeland  24.0    male   \n",
       "..     ...                                                ...   ...     ...   \n",
       "361  11612  King County (Far Southwest)--Federal Way, Des ...  16.0  female   \n",
       "362  11614    King County (Southwest)--Auburn City & Lakeland  16.0    male   \n",
       "363  11614    King County (Southwest)--Auburn City & Lakeland  16.0    male   \n",
       "364  11615  King County (Southeast)--Maple Valley, Covingt...  16.0  female   \n",
       "365  11610  King County (Central)--Renton City, Fairwood, ...  16.0    male   \n",
       "\n",
       "             race_or_ethnicity                             school  \\\n",
       "0                        asian  Has not attended in last 3 months   \n",
       "1    black or African American  Has not attended in last 3 months   \n",
       "2                        white  Has not attended in last 3 months   \n",
       "3                        white  Has not attended in last 3 months   \n",
       "4                     hispanic  Has not attended in last 3 months   \n",
       "..                         ...                                ...   \n",
       "361                      white  Has not attended in last 3 months   \n",
       "362                      white  Has not attended in last 3 months   \n",
       "363                      white  Has not attended in last 3 months   \n",
       "364                      white  Has not attended in last 3 months   \n",
       "365                      white  Has not attended in last 3 months   \n",
       "\n",
       "    education_attainment              employment_status  \\\n",
       "0           No HS or GED  Unemployed/not in labor force   \n",
       "1      post HS education  Unemployed/not in labor force   \n",
       "2      HS diploma or GED  Unemployed/not in labor force   \n",
       "3      post HS education  Unemployed/not in labor force   \n",
       "4           No HS or GED  Unemployed/not in labor force   \n",
       "..                   ...                            ...   \n",
       "361         No HS or GED  Unemployed/not in labor force   \n",
       "362    HS diploma or GED  Unemployed/not in labor force   \n",
       "363         No HS or GED  Unemployed/not in labor force   \n",
       "364         No HS or GED  Unemployed/not in labor force   \n",
       "365         No HS or GED  Unemployed/not in labor force   \n",
       "\n",
       "          disability_status disability_type  ... english_language  \\\n",
       "0    no reported disability   None reported  ...  English Speaker   \n",
       "1    no reported disability   None reported  ...  English Speaker   \n",
       "2    no reported disability   None reported  ...  English Speaker   \n",
       "3    no reported disability   None reported  ...  English Speaker   \n",
       "4    no reported disability   None reported  ...  English Speaker   \n",
       "..                      ...             ...  ...              ...   \n",
       "361  no reported disability   None reported  ...  English Speaker   \n",
       "362  no reported disability   None reported  ...  English Speaker   \n",
       "363  no reported disability   None reported  ...  English Speaker   \n",
       "364     reported disability   None reported  ...  English Speaker   \n",
       "365  no reported disability   None reported  ...  English Speaker   \n",
       "\n",
       "                     last_employed                   parent_employment  \\\n",
       "0    not employed in the last year                                None   \n",
       "1        employed in the last year                                None   \n",
       "2    not employed in the last year                                None   \n",
       "3        employed in the last year                                None   \n",
       "4    not employed in the last year                                None   \n",
       "..                             ...                                 ...   \n",
       "361  not employed in the last year  One or both parents in labor force   \n",
       "362  not employed in the last year  One or both parents in labor force   \n",
       "363  not employed in the last year  One or both parents in labor force   \n",
       "364  not employed in the last year  One or both parents in labor force   \n",
       "365  not employed in the last year  One or both parents in labor force   \n",
       "\n",
       "    marital_status child_born_las_year presence_of_children  \\\n",
       "0    never married                None      no own children   \n",
       "1          married                 yes      no own children   \n",
       "2    never married                None      no own children   \n",
       "3    never married                None      no own children   \n",
       "4    never married                None      no own children   \n",
       "..             ...                 ...                  ...   \n",
       "361  never married                None      no own children   \n",
       "362  never married                None      no own children   \n",
       "363  never married                None      no own children   \n",
       "364  never married                None      no own children   \n",
       "365  never married                None      no own children   \n",
       "\n",
       "                    moved has_health_insurance  \\\n",
       "0    lived here last year                  yes   \n",
       "1    moved here last year                  yes   \n",
       "2    lived here last year                   no   \n",
       "3    moved here last year                  yes   \n",
       "4    lived here last year                   no   \n",
       "..                    ...                  ...   \n",
       "361  lived here last year                  yes   \n",
       "362  lived here last year                  yes   \n",
       "363  lived here last year                  yes   \n",
       "364  lived here last year                  yes   \n",
       "365  lived here last year                  yes   \n",
       "\n",
       "    public_assistance_income_past_year  weight  \n",
       "0                                  0.0    21.0  \n",
       "1                                  0.0     8.0  \n",
       "2                                  0.0     3.0  \n",
       "3                                  0.0    23.0  \n",
       "4                                  0.0     3.0  \n",
       "..                                 ...     ...  \n",
       "361                                0.0    21.0  \n",
       "362                                0.0    12.0  \n",
       "363                                0.0    24.0  \n",
       "364                                0.0    13.0  \n",
       "365                                0.0    24.0  \n",
       "\n",
       "[366 rows x 21 columns]"
      ]
     },
     "execution_count": 72,
     "metadata": {},
     "output_type": "execute_result"
    }
   ],
   "source": [
    "dt2018 = pd.read_sql(\"\"\"\n",
    "            SELECT p.puma, rtrim(puma_name), agep, \n",
    "                        CASE WHEN p.sex = '1' THEN 'male'\n",
    "                 ELSE 'female'\n",
    "                 END as gender,\n",
    "            CASE WHEN p.racasn = '1' THEN 'asian'\n",
    "                 WHEN p.racblk = '1' THEN 'black or African American'\n",
    "                 WHEN p.racwht = '1' THEN 'white'\n",
    "                 WHEN p.hisp <> '1' THEN 'hispanic' \n",
    "                 END as race_or_ethnicity,\n",
    "            CASE WHEN p.sch = '1' THEN 'Has not attended in last 3 months'\n",
    "                 WHEN p.sch IN ('2','3') THEN 'public or private school or college and homeschool'\n",
    "                 END as School,\n",
    "            CASE WHEN p.schl in ('16','17') THEN 'HS diploma or GED'\n",
    "                 WHEN p.schl in ('18','19','20','21','22','23','24') THEN 'post HS education'\n",
    "                 ELSE 'No HS or GED'\n",
    "                 END as Education_attainment,\n",
    "            CASE WHEN p.esr in ('1','2') THEN 'employed'\n",
    "                 WHEN p.esr in ('3','6') THEN 'Unemployed/not in labor force'\n",
    "                 WHEN p.esr IN ('4','5') THEN 'Armed Forces'\n",
    "                 END as Employment_status,\n",
    "            CASE WHEN p.dis = '1' THEN 'reported disability'\n",
    "                 ELSE 'no reported disability'\n",
    "                 END as disability_status,\n",
    "            CASE WHEN p.ddrs = '1' THEN 'Self-care difficulty'\n",
    "                 WHEN p.dear = '1' THEN 'Hearing difficulty'\n",
    "                 WHEN p.deye = '1' THEN 'Vision difficulty'\n",
    "                 WHEN p.dphy = '1' THEN 'Ambulatory difficulty'\n",
    "                 WHEN p.drem = '1' THEN 'Cognitive difficulty'\n",
    "                 ELSE 'None reported' \n",
    "                 END as disability_type,\n",
    "            CASE WHEN p.cit IN ('1','2','3','4') THEN 'US Citizen'\n",
    "                 WHEN p.cit = '5' THEN 'Not US Citizen' \n",
    "                 END as Citizenship,\n",
    "            CASE WHEN p.eng IN ('3','4') THEN 'Poor or No English Skills'\n",
    "                 ELSE 'English Speaker'\n",
    "                 END as English_language,\n",
    "            CASE WHEN p.wkl = '1' THEN 'employed in the last year'\n",
    "                 WHEN p.wkl in ('2','3') THEN 'not employed in the last year' \n",
    "                 END AS last_employed,\n",
    "            CASE WHEN p.esp in ('1','2','3','5','6','7','8') THEN 'One or both parents in labor force'\n",
    "                 WHEN p.esp = '4' THEN 'Neither parent in labor force'\n",
    "                 END as Parent_employment,\n",
    "            CASE WHEN p.mar = '1' THEN 'married'\n",
    "                 WHEN p.mar = '5' THEN 'never married'\n",
    "                 ELSE 'divorced, widowed, or separated' \n",
    "                 END as marital_status,\n",
    "            CASE WHEN p.fer = '1' THEN 'yes' \n",
    "                 END AS Child_born_las_year,\n",
    "            CASE WHEN p.paoc in ('1','2','3') THEN 'own child(ren)' \n",
    "                 ELSE 'no own children' \n",
    "                 END as Presence_of_children, \n",
    "            CASE WHEN p.mig = '1' THEN 'lived here last year' \n",
    "                 ELSE 'moved here last year' \n",
    "                 END AS Moved,\n",
    "            CASE WHEN p.hicov = '1' THEN 'yes' \n",
    "                 ELSE 'no' \n",
    "                 END as Has_Health_Insurance,\n",
    "            pap as Public_Assistance_Income_past_year,        \n",
    "            pwgtp as Weight\n",
    "            FROM pums_2018 p\n",
    "            JOIN puma_names_2010 n on p.puma = n.puma\n",
    "            WHERE state_name = 'Washington'\n",
    "            AND p.puma IN ('11610','11611', '11612','11613','11614','11615')\n",
    "            AND p.sch = '1' \n",
    "            AND p.esr IN ('3','6')\n",
    "            AND agep BETWEEN 16 AND 24\n",
    "            GROUP BY p.puma,n.puma_name,agep,p.sex,p.racasn,p.racblk,p.racwht,p.hisp,p.sch,p.schl,\n",
    "                     p.esr,p.dis,p.ddrs,p.dear,p.deye,p.dphy,p.drem,p.cit,p.eng,p.wkl,p.esp,\n",
    "                     p.mar,p.fer,p.paoc,p.mig,p.hicov,p.pap,p.pwgtp\n",
    "            ORDER BY school, agep DESC\"\"\", conn)\n",
    "dt2018"
   ]
  },
  {
   "cell_type": "code",
   "execution_count": 70,
   "metadata": {},
   "outputs": [
    {
     "data": {
      "text/plain": [
       "english_language\n",
       "English Speaker                3467.0\n",
       "Poor or No English language    7147.0\n",
       "Name: weight, dtype: float64"
      ]
     },
     "execution_count": 70,
     "metadata": {},
     "output_type": "execute_result"
    }
   ],
   "source": [
    "dt2017.groupby('english_language')['weight'].agg(sum)"
   ]
  },
  {
   "cell_type": "code",
   "execution_count": null,
   "metadata": {
    "collapsed": true,
    "jupyter": {
     "outputs_hidden": true
    }
   },
   "outputs": [],
   "source": [
    "dt2018.groupby('gender')['weight'].agg(sum)"
   ]
  },
  {
   "cell_type": "code",
   "execution_count": null,
   "metadata": {
    "collapsed": true,
    "jupyter": {
     "outputs_hidden": true
    }
   },
   "outputs": [],
   "source": [
    "dt2017.groupby('race_or_ethnicity')['weight'].agg(sum)"
   ]
  },
  {
   "cell_type": "code",
   "execution_count": null,
   "metadata": {
    "collapsed": true,
    "jupyter": {
     "outputs_hidden": true
    }
   },
   "outputs": [],
   "source": [
    "dt2018.columns"
   ]
  },
  {
   "cell_type": "code",
   "execution_count": null,
   "metadata": {
    "collapsed": true,
    "jupyter": {
     "outputs_hidden": true
    }
   },
   "outputs": [],
   "source": [
    "dt2017.groupby('school')['weight'].agg(sum)"
   ]
  },
  {
   "cell_type": "code",
   "execution_count": null,
   "metadata": {
    "collapsed": true,
    "jupyter": {
     "outputs_hidden": true
    }
   },
   "outputs": [],
   "source": [
    "dt2018.groupby('school')['weight'].agg(sum)"
   ]
  },
  {
   "cell_type": "code",
   "execution_count": null,
   "metadata": {
    "collapsed": true,
    "jupyter": {
     "outputs_hidden": true
    }
   },
   "outputs": [],
   "source": [
    "dt2017.groupby('education_attainment')['weight'].agg(sum)"
   ]
  },
  {
   "cell_type": "code",
   "execution_count": null,
   "metadata": {
    "collapsed": true,
    "jupyter": {
     "outputs_hidden": true
    }
   },
   "outputs": [],
   "source": [
    "dt2018.groupby('education_attainment')['weight'].agg(sum)"
   ]
  },
  {
   "cell_type": "code",
   "execution_count": null,
   "metadata": {
    "collapsed": true,
    "jupyter": {
     "outputs_hidden": true
    }
   },
   "outputs": [],
   "source": [
    "dt2017.groupby('citizenship')['weight'].agg(sum)"
   ]
  },
  {
   "cell_type": "code",
   "execution_count": null,
   "metadata": {
    "collapsed": true,
    "jupyter": {
     "outputs_hidden": true
    }
   },
   "outputs": [],
   "source": [
    "dt2018.groupby('citizenship')['weight'].agg(sum)"
   ]
  },
  {
   "cell_type": "code",
   "execution_count": null,
   "metadata": {
    "collapsed": true,
    "jupyter": {
     "outputs_hidden": true
    }
   },
   "outputs": [],
   "source": [
    "dt2017.groupby('disability_status')['weight'].agg(sum)"
   ]
  },
  {
   "cell_type": "code",
   "execution_count": null,
   "metadata": {
    "collapsed": true,
    "jupyter": {
     "outputs_hidden": true
    }
   },
   "outputs": [],
   "source": [
    "dt2018.groupby('disability_status')['weight'].agg(sum)"
   ]
  },
  {
   "cell_type": "code",
   "execution_count": null,
   "metadata": {
    "collapsed": true,
    "jupyter": {
     "outputs_hidden": true
    }
   },
   "outputs": [],
   "source": [
    "dt2017.groupby('disability_type')['weight'].agg(sum)"
   ]
  },
  {
   "cell_type": "code",
   "execution_count": null,
   "metadata": {
    "collapsed": true,
    "jupyter": {
     "outputs_hidden": true
    }
   },
   "outputs": [],
   "source": [
    "dt2018.groupby('disability_type')['weight'].agg(sum)"
   ]
  },
  {
   "cell_type": "code",
   "execution_count": 55,
   "metadata": {
    "collapsed": true,
    "jupyter": {
     "outputs_hidden": true,
     "source_hidden": true
    }
   },
   "outputs": [
    {
     "data": {
      "text/plain": [
       "english_language\n",
       "English Speaker                3467.0\n",
       "Poor or No English language    7147.0\n",
       "Name: weight, dtype: float64"
      ]
     },
     "execution_count": 55,
     "metadata": {},
     "output_type": "execute_result"
    }
   ],
   "source": [
    "dt2017.groupby('english_language')['weight'].agg(sum)"
   ]
  },
  {
   "cell_type": "code",
   "execution_count": null,
   "metadata": {
    "collapsed": true,
    "jupyter": {
     "outputs_hidden": true
    }
   },
   "outputs": [],
   "source": [
    "dt2018.groupby('english_language')['weight'].agg(sum)"
   ]
  },
  {
   "cell_type": "code",
   "execution_count": 58,
   "metadata": {
    "collapsed": true,
    "jupyter": {
     "outputs_hidden": true
    }
   },
   "outputs": [
    {
     "data": {
      "text/plain": [
       "last_employed\n",
       "employed in the last year        3990.0\n",
       "not employed in the last year    6624.0\n",
       "Name: weight, dtype: float64"
      ]
     },
     "execution_count": 58,
     "metadata": {},
     "output_type": "execute_result"
    }
   ],
   "source": [
    "dt2017.groupby('last_employed')['weight'].agg(sum)"
   ]
  },
  {
   "cell_type": "code",
   "execution_count": 57,
   "metadata": {
    "collapsed": true,
    "jupyter": {
     "outputs_hidden": true
    }
   },
   "outputs": [
    {
     "data": {
      "text/plain": [
       "last_employed\n",
       "employed in the last year        4102.0\n",
       "not employed in the last year    5704.0\n",
       "Name: weight, dtype: float64"
      ]
     },
     "execution_count": 57,
     "metadata": {},
     "output_type": "execute_result"
    }
   ],
   "source": [
    "dt2018.groupby('last_employed')['weight'].agg(sum)"
   ]
  },
  {
   "cell_type": "code",
   "execution_count": null,
   "metadata": {
    "collapsed": true,
    "jupyter": {
     "outputs_hidden": true
    }
   },
   "outputs": [],
   "source": [
    "dt2017.groupby('parent_employment')['weight'].agg(sum)"
   ]
  },
  {
   "cell_type": "code",
   "execution_count": null,
   "metadata": {
    "collapsed": true,
    "jupyter": {
     "outputs_hidden": true
    }
   },
   "outputs": [],
   "source": [
    "dt2018.groupby('parent_employment')['weight'].agg(sum)"
   ]
  },
  {
   "cell_type": "code",
   "execution_count": null,
   "metadata": {
    "collapsed": true,
    "jupyter": {
     "outputs_hidden": true
    }
   },
   "outputs": [],
   "source": [
    "dt2017.groupby('marital_status')['weight'].agg(sum)"
   ]
  },
  {
   "cell_type": "code",
   "execution_count": null,
   "metadata": {
    "collapsed": true,
    "jupyter": {
     "outputs_hidden": true
    }
   },
   "outputs": [],
   "source": [
    "dt2018.groupby('marital_status')['weight'].agg(sum)"
   ]
  },
  {
   "cell_type": "code",
   "execution_count": null,
   "metadata": {
    "collapsed": true,
    "jupyter": {
     "outputs_hidden": true
    }
   },
   "outputs": [],
   "source": [
    "dt2017.groupby('child_born_las_year')['weight'].agg(sum)"
   ]
  },
  {
   "cell_type": "code",
   "execution_count": null,
   "metadata": {
    "collapsed": true,
    "jupyter": {
     "outputs_hidden": true
    }
   },
   "outputs": [],
   "source": [
    "dt2018.groupby('child_born_las_year')['weight'].agg(sum)"
   ]
  },
  {
   "cell_type": "code",
   "execution_count": null,
   "metadata": {
    "collapsed": true,
    "jupyter": {
     "outputs_hidden": true
    }
   },
   "outputs": [],
   "source": [
    "dt2017.groupby('presence_of_children')['weight'].agg(sum)"
   ]
  },
  {
   "cell_type": "code",
   "execution_count": null,
   "metadata": {
    "collapsed": true,
    "jupyter": {
     "outputs_hidden": true
    }
   },
   "outputs": [],
   "source": [
    "dt2018.groupby('presence_of_children')['weight'].agg(sum)"
   ]
  },
  {
   "cell_type": "code",
   "execution_count": 56,
   "metadata": {
    "collapsed": true,
    "jupyter": {
     "outputs_hidden": true
    }
   },
   "outputs": [
    {
     "data": {
      "text/plain": [
       "moved\n",
       "lived here last year    6725.0\n",
       "moved here last year    3889.0\n",
       "Name: weight, dtype: float64"
      ]
     },
     "execution_count": 56,
     "metadata": {},
     "output_type": "execute_result"
    }
   ],
   "source": [
    "dt2017.groupby('moved')['weight'].agg(sum)"
   ]
  },
  {
   "cell_type": "code",
   "execution_count": null,
   "metadata": {
    "collapsed": true,
    "jupyter": {
     "outputs_hidden": true
    }
   },
   "outputs": [],
   "source": [
    "dt2018.groupby('moved')['weight'].agg(sum)"
   ]
  },
  {
   "cell_type": "code",
   "execution_count": null,
   "metadata": {
    "collapsed": true,
    "jupyter": {
     "outputs_hidden": true
    }
   },
   "outputs": [],
   "source": [
    "dt2017.groupby('has_health_insurance')['weight'].agg(sum)"
   ]
  },
  {
   "cell_type": "code",
   "execution_count": null,
   "metadata": {
    "collapsed": true,
    "jupyter": {
     "outputs_hidden": true
    }
   },
   "outputs": [],
   "source": [
    "dt2018.groupby('has_health_insurance')['weight'].agg(sum)"
   ]
  },
  {
   "cell_type": "code",
   "execution_count": null,
   "metadata": {
    "collapsed": true,
    "jupyter": {
     "outputs_hidden": true
    }
   },
   "outputs": [],
   "source": [
    "dt2017.groupby('public_assistance_income_past_year')['weight'].agg(sum)"
   ]
  },
  {
   "cell_type": "code",
   "execution_count": null,
   "metadata": {
    "collapsed": true,
    "jupyter": {
     "outputs_hidden": true
    }
   },
   "outputs": [],
   "source": [
    "dt2018.groupby('public_assistance_income_past_year')['weight'].agg(sum)"
   ]
  },
  {
   "cell_type": "code",
   "execution_count": 68,
   "metadata": {},
   "outputs": [
    {
     "data": {
      "text/html": [
       "<div>\n",
       "<style scoped>\n",
       "    .dataframe tbody tr th:only-of-type {\n",
       "        vertical-align: middle;\n",
       "    }\n",
       "\n",
       "    .dataframe tbody tr th {\n",
       "        vertical-align: top;\n",
       "    }\n",
       "\n",
       "    .dataframe thead th {\n",
       "        text-align: right;\n",
       "    }\n",
       "</style>\n",
       "<table border=\"1\" class=\"dataframe\">\n",
       "  <thead>\n",
       "    <tr style=\"text-align: right;\">\n",
       "      <th></th>\n",
       "      <th>puma</th>\n",
       "      <th>rtrim</th>\n",
       "      <th>agep</th>\n",
       "      <th>gender</th>\n",
       "      <th>race_or_ethnicity</th>\n",
       "      <th>school</th>\n",
       "      <th>education_attainment</th>\n",
       "      <th>employment_status</th>\n",
       "      <th>disability_status</th>\n",
       "      <th>disability_type</th>\n",
       "      <th>...</th>\n",
       "      <th>english_language</th>\n",
       "      <th>last_employed</th>\n",
       "      <th>parent_employment</th>\n",
       "      <th>marital_status</th>\n",
       "      <th>child_born_las_year</th>\n",
       "      <th>presence_of_children</th>\n",
       "      <th>moved</th>\n",
       "      <th>has_health_insurance</th>\n",
       "      <th>public_assistance_income_past_year</th>\n",
       "      <th>weight</th>\n",
       "    </tr>\n",
       "  </thead>\n",
       "  <tbody>\n",
       "    <tr>\n",
       "      <th>3</th>\n",
       "      <td>11614</td>\n",
       "      <td>King County (Southwest)--Auburn City &amp; Lakeland</td>\n",
       "      <td>24.0</td>\n",
       "      <td>male</td>\n",
       "      <td>white</td>\n",
       "      <td>Has not attended in last 3 months</td>\n",
       "      <td>No HS or GED</td>\n",
       "      <td>Unemployed/not in labor force</td>\n",
       "      <td>no reported disability</td>\n",
       "      <td>None reported</td>\n",
       "      <td>...</td>\n",
       "      <td>Poor or No English language</td>\n",
       "      <td>employed in the last year</td>\n",
       "      <td>None</td>\n",
       "      <td>never married</td>\n",
       "      <td>None</td>\n",
       "      <td>no own children</td>\n",
       "      <td>moved here last year</td>\n",
       "      <td>yes</td>\n",
       "      <td>0.0</td>\n",
       "      <td>4.0</td>\n",
       "    </tr>\n",
       "    <tr>\n",
       "      <th>15</th>\n",
       "      <td>11614</td>\n",
       "      <td>King County (Southwest)--Auburn City &amp; Lakeland</td>\n",
       "      <td>24.0</td>\n",
       "      <td>male</td>\n",
       "      <td>hispanic</td>\n",
       "      <td>Has not attended in last 3 months</td>\n",
       "      <td>post HS education</td>\n",
       "      <td>Unemployed/not in labor force</td>\n",
       "      <td>no reported disability</td>\n",
       "      <td>None reported</td>\n",
       "      <td>...</td>\n",
       "      <td>English Speaker</td>\n",
       "      <td>not employed in the last year</td>\n",
       "      <td>None</td>\n",
       "      <td>married</td>\n",
       "      <td>None</td>\n",
       "      <td>no own children</td>\n",
       "      <td>moved here last year</td>\n",
       "      <td>no</td>\n",
       "      <td>0.0</td>\n",
       "      <td>14.0</td>\n",
       "    </tr>\n",
       "    <tr>\n",
       "      <th>16</th>\n",
       "      <td>11614</td>\n",
       "      <td>King County (Southwest)--Auburn City &amp; Lakeland</td>\n",
       "      <td>24.0</td>\n",
       "      <td>male</td>\n",
       "      <td>hispanic</td>\n",
       "      <td>Has not attended in last 3 months</td>\n",
       "      <td>No HS or GED</td>\n",
       "      <td>Unemployed/not in labor force</td>\n",
       "      <td>no reported disability</td>\n",
       "      <td>None reported</td>\n",
       "      <td>...</td>\n",
       "      <td>Poor or No English language</td>\n",
       "      <td>not employed in the last year</td>\n",
       "      <td>None</td>\n",
       "      <td>never married</td>\n",
       "      <td>None</td>\n",
       "      <td>no own children</td>\n",
       "      <td>lived here last year</td>\n",
       "      <td>no</td>\n",
       "      <td>0.0</td>\n",
       "      <td>5.0</td>\n",
       "    </tr>\n",
       "    <tr>\n",
       "      <th>21</th>\n",
       "      <td>11610</td>\n",
       "      <td>King County (Central)--Renton City, Fairwood, ...</td>\n",
       "      <td>24.0</td>\n",
       "      <td>male</td>\n",
       "      <td>white</td>\n",
       "      <td>Has not attended in last 3 months</td>\n",
       "      <td>post HS education</td>\n",
       "      <td>Unemployed/not in labor force</td>\n",
       "      <td>no reported disability</td>\n",
       "      <td>None reported</td>\n",
       "      <td>...</td>\n",
       "      <td>Poor or No English language</td>\n",
       "      <td>not employed in the last year</td>\n",
       "      <td>None</td>\n",
       "      <td>never married</td>\n",
       "      <td>None</td>\n",
       "      <td>no own children</td>\n",
       "      <td>lived here last year</td>\n",
       "      <td>yes</td>\n",
       "      <td>0.0</td>\n",
       "      <td>22.0</td>\n",
       "    </tr>\n",
       "    <tr>\n",
       "      <th>25</th>\n",
       "      <td>11612</td>\n",
       "      <td>King County (Far Southwest)--Federal Way, Des ...</td>\n",
       "      <td>24.0</td>\n",
       "      <td>male</td>\n",
       "      <td>white</td>\n",
       "      <td>Has not attended in last 3 months</td>\n",
       "      <td>HS diploma or GED</td>\n",
       "      <td>Unemployed/not in labor force</td>\n",
       "      <td>no reported disability</td>\n",
       "      <td>None reported</td>\n",
       "      <td>...</td>\n",
       "      <td>English Speaker</td>\n",
       "      <td>not employed in the last year</td>\n",
       "      <td>None</td>\n",
       "      <td>never married</td>\n",
       "      <td>None</td>\n",
       "      <td>no own children</td>\n",
       "      <td>moved here last year</td>\n",
       "      <td>no</td>\n",
       "      <td>0.0</td>\n",
       "      <td>37.0</td>\n",
       "    </tr>\n",
       "  </tbody>\n",
       "</table>\n",
       "<p>5 rows × 21 columns</p>\n",
       "</div>"
      ],
      "text/plain": [
       "     puma                                              rtrim  agep gender  \\\n",
       "3   11614    King County (Southwest)--Auburn City & Lakeland  24.0   male   \n",
       "15  11614    King County (Southwest)--Auburn City & Lakeland  24.0   male   \n",
       "16  11614    King County (Southwest)--Auburn City & Lakeland  24.0   male   \n",
       "21  11610  King County (Central)--Renton City, Fairwood, ...  24.0   male   \n",
       "25  11612  King County (Far Southwest)--Federal Way, Des ...  24.0   male   \n",
       "\n",
       "   race_or_ethnicity                             school education_attainment  \\\n",
       "3              white  Has not attended in last 3 months         No HS or GED   \n",
       "15          hispanic  Has not attended in last 3 months    post HS education   \n",
       "16          hispanic  Has not attended in last 3 months         No HS or GED   \n",
       "21             white  Has not attended in last 3 months    post HS education   \n",
       "25             white  Has not attended in last 3 months    HS diploma or GED   \n",
       "\n",
       "                employment_status       disability_status disability_type  \\\n",
       "3   Unemployed/not in labor force  no reported disability   None reported   \n",
       "15  Unemployed/not in labor force  no reported disability   None reported   \n",
       "16  Unemployed/not in labor force  no reported disability   None reported   \n",
       "21  Unemployed/not in labor force  no reported disability   None reported   \n",
       "25  Unemployed/not in labor force  no reported disability   None reported   \n",
       "\n",
       "    ...             english_language                  last_employed  \\\n",
       "3   ...  Poor or No English language      employed in the last year   \n",
       "15  ...              English Speaker  not employed in the last year   \n",
       "16  ...  Poor or No English language  not employed in the last year   \n",
       "21  ...  Poor or No English language  not employed in the last year   \n",
       "25  ...              English Speaker  not employed in the last year   \n",
       "\n",
       "   parent_employment marital_status child_born_las_year presence_of_children  \\\n",
       "3               None  never married                None      no own children   \n",
       "15              None        married                None      no own children   \n",
       "16              None  never married                None      no own children   \n",
       "21              None  never married                None      no own children   \n",
       "25              None  never married                None      no own children   \n",
       "\n",
       "                   moved has_health_insurance  \\\n",
       "3   moved here last year                  yes   \n",
       "15  moved here last year                   no   \n",
       "16  lived here last year                   no   \n",
       "21  lived here last year                  yes   \n",
       "25  moved here last year                   no   \n",
       "\n",
       "   public_assistance_income_past_year  weight  \n",
       "3                                 0.0     4.0  \n",
       "15                                0.0    14.0  \n",
       "16                                0.0     5.0  \n",
       "21                                0.0    22.0  \n",
       "25                                0.0    37.0  \n",
       "\n",
       "[5 rows x 21 columns]"
      ]
     },
     "execution_count": 68,
     "metadata": {},
     "output_type": "execute_result"
    }
   ],
   "source": [
    "f17 = dt2017['gender']=='female'\n",
    "f2017 = dt2017[f17]\n",
    "\n",
    "f18 = dt2018['gender']=='female'\n",
    "f2018 = dt2018[f18]\n",
    "\n",
    "m17=dt2017['gender']=='male'\n",
    "m2017=dt2017[m17]\n",
    "\n",
    "m18=dt2018"
   ]
  },
  {
   "cell_type": "code",
   "execution_count": 64,
   "metadata": {},
   "outputs": [
    {
     "data": {
      "text/plain": [
       "agep\n",
       "16.0     153.0\n",
       "17.0     150.0\n",
       "18.0     646.0\n",
       "19.0     675.0\n",
       "20.0     496.0\n",
       "21.0     595.0\n",
       "22.0     823.0\n",
       "23.0    1212.0\n",
       "24.0     915.0\n",
       "Name: weight, dtype: float64"
      ]
     },
     "execution_count": 64,
     "metadata": {},
     "output_type": "execute_result"
    }
   ],
   "source": [
    "f2017.groupby('agep')['weight'].agg(sum)"
   ]
  },
  {
   "cell_type": "code",
   "execution_count": 71,
   "metadata": {},
   "outputs": [
    {
     "data": {
      "text/html": [
       "<div>\n",
       "<style scoped>\n",
       "    .dataframe tbody tr th:only-of-type {\n",
       "        vertical-align: middle;\n",
       "    }\n",
       "\n",
       "    .dataframe tbody tr th {\n",
       "        vertical-align: top;\n",
       "    }\n",
       "\n",
       "    .dataframe thead th {\n",
       "        text-align: right;\n",
       "    }\n",
       "</style>\n",
       "<table border=\"1\" class=\"dataframe\">\n",
       "  <thead>\n",
       "    <tr style=\"text-align: right;\">\n",
       "      <th></th>\n",
       "      <th>eng</th>\n",
       "    </tr>\n",
       "  </thead>\n",
       "  <tbody>\n",
       "    <tr>\n",
       "      <th>0</th>\n",
       "      <td>4</td>\n",
       "    </tr>\n",
       "    <tr>\n",
       "      <th>1</th>\n",
       "      <td>3</td>\n",
       "    </tr>\n",
       "    <tr>\n",
       "      <th>2</th>\n",
       "      <td>None</td>\n",
       "    </tr>\n",
       "    <tr>\n",
       "      <th>3</th>\n",
       "      <td>2</td>\n",
       "    </tr>\n",
       "    <tr>\n",
       "      <th>4</th>\n",
       "      <td>1</td>\n",
       "    </tr>\n",
       "  </tbody>\n",
       "</table>\n",
       "</div>"
      ],
      "text/plain": [
       "    eng\n",
       "0     4\n",
       "1     3\n",
       "2  None\n",
       "3     2\n",
       "4     1"
      ]
     },
     "execution_count": 71,
     "metadata": {},
     "output_type": "execute_result"
    }
   ],
   "source": [
    "pd.read_sql(\"\"\"SELECT DISTINCT eng\n",
    "            FROM pums_2017\"\"\",conn)"
   ]
  },
  {
   "cell_type": "code",
   "execution_count": null,
   "metadata": {},
   "outputs": [],
   "source": []
  }
 ],
 "metadata": {
  "kernelspec": {
   "display_name": "oy-env",
   "language": "python",
   "name": "oy-env"
  },
  "language_info": {
   "codemirror_mode": {
    "name": "ipython",
    "version": 3
   },
   "file_extension": ".py",
   "mimetype": "text/x-python",
   "name": "python",
   "nbconvert_exporter": "python",
   "pygments_lexer": "ipython3",
   "version": "3.8.1"
  }
 },
 "nbformat": 4,
 "nbformat_minor": 4
}
